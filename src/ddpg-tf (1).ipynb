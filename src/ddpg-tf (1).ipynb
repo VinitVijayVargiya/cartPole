{
 "cells": [
  {
   "cell_type": "code",
   "execution_count": 1,
   "id": "marked-perth",
   "metadata": {
    "_cell_guid": "b1076dfc-b9ad-4769-8c92-a6c4dae69d19",
    "_uuid": "8f2839f25d086af736a60e9eeb907d3b93b6e0e5",
    "execution": {
     "iopub.execute_input": "2021-06-01T18:01:48.446314Z",
     "iopub.status.busy": "2021-06-01T18:01:48.445752Z",
     "iopub.status.idle": "2021-06-01T18:01:48.449612Z",
     "shell.execute_reply": "2021-06-01T18:01:48.449116Z",
     "shell.execute_reply.started": "2021-06-01T15:24:55.822183Z"
    },
    "papermill": {
     "duration": 0.04983,
     "end_time": "2021-06-01T18:01:48.449740",
     "exception": false,
     "start_time": "2021-06-01T18:01:48.399910",
     "status": "completed"
    },
    "tags": []
   },
   "outputs": [],
   "source": [
    "# This Python 3 environment comes with many helpful analytics libraries installed\n",
    "# It is defined by the kaggle/python Docker image: https://github.com/kaggle/docker-python\n",
    "# For example, here's several helpful packages to load\n",
    "\n",
    "import numpy as np # linear algebra\n",
    "import pandas as pd # data processing, CSV file I/O (e.g. pd.read_csv)\n",
    "\n",
    "# Input data files are available in the read-only \"../input/\" directory\n",
    "# For example, running this (by clicking run or pressing Shift+Enter) will list all files under the input directory\n",
    "\n",
    "import os\n",
    "for dirname, _, filenames in os.walk('/kaggle/input'):\n",
    "    for filename in filenames:\n",
    "        print(os.path.join(dirname, filename))\n",
    "\n",
    "# You can write up to 20GB to the current directory (/kaggle/working/) that gets preserved as output when you create a version using \"Save & Run All\" \n",
    "# You can also write temporary files to /kaggle/temp/, but they won't be saved outside of the current session"
   ]
  },
  {
   "cell_type": "code",
   "execution_count": 2,
   "id": "mental-brave",
   "metadata": {
    "execution": {
     "iopub.execute_input": "2021-06-01T18:01:48.521530Z",
     "iopub.status.busy": "2021-06-01T18:01:48.520836Z",
     "iopub.status.idle": "2021-06-01T18:01:53.442188Z",
     "shell.execute_reply": "2021-06-01T18:01:53.441032Z",
     "shell.execute_reply.started": "2021-06-01T15:24:55.830315Z"
    },
    "papermill": {
     "duration": 4.958545,
     "end_time": "2021-06-01T18:01:53.442344",
     "exception": false,
     "start_time": "2021-06-01T18:01:48.483799",
     "status": "completed"
    },
    "tags": []
   },
   "outputs": [],
   "source": [
    "import os\n",
    "import gym # openAi gym\n",
    "from gym import envs\n",
    "import numpy as np\n",
    "import tensorflow as tf\n",
    "import imageio"
   ]
  },
  {
   "cell_type": "code",
   "execution_count": 3,
   "id": "racial-superior",
   "metadata": {
    "execution": {
     "iopub.execute_input": "2021-06-01T18:01:53.516551Z",
     "iopub.status.busy": "2021-06-01T18:01:53.515767Z",
     "iopub.status.idle": "2021-06-01T18:01:53.518265Z",
     "shell.execute_reply": "2021-06-01T18:01:53.517836Z",
     "shell.execute_reply.started": "2021-06-01T15:24:57.451368Z"
    },
    "papermill": {
     "duration": 0.04168,
     "end_time": "2021-06-01T18:01:53.518369",
     "exception": false,
     "start_time": "2021-06-01T18:01:53.476689",
     "status": "completed"
    },
    "tags": []
   },
   "outputs": [],
   "source": [
    "class OUActionNoise(object):\n",
    "    def __init__(self, mu, signma = 0.15, theta=0.2,dt=1e-2, x0=None):\n",
    "        self.theta  =  theta"
   ]
  },
  {
   "cell_type": "code",
   "execution_count": 4,
   "id": "living-clearance",
   "metadata": {
    "execution": {
     "iopub.execute_input": "2021-06-01T18:01:53.590748Z",
     "iopub.status.busy": "2021-06-01T18:01:53.589996Z",
     "iopub.status.idle": "2021-06-01T18:01:53.592701Z",
     "shell.execute_reply": "2021-06-01T18:01:53.592303Z",
     "shell.execute_reply.started": "2021-06-01T15:24:57.461384Z"
    },
    "papermill": {
     "duration": 0.040069,
     "end_time": "2021-06-01T18:01:53.592804",
     "exception": false,
     "start_time": "2021-06-01T18:01:53.552735",
     "status": "completed"
    },
    "tags": []
   },
   "outputs": [],
   "source": [
    "import tensorflow as tf"
   ]
  },
  {
   "cell_type": "code",
   "execution_count": 5,
   "id": "detected-germany",
   "metadata": {
    "execution": {
     "iopub.execute_input": "2021-06-01T18:01:53.665616Z",
     "iopub.status.busy": "2021-06-01T18:01:53.664872Z",
     "iopub.status.idle": "2021-06-01T18:01:53.667528Z",
     "shell.execute_reply": "2021-06-01T18:01:53.667023Z",
     "shell.execute_reply.started": "2021-06-01T15:24:57.467897Z"
    },
    "papermill": {
     "duration": 0.040603,
     "end_time": "2021-06-01T18:01:53.667628",
     "exception": false,
     "start_time": "2021-06-01T18:01:53.627025",
     "status": "completed"
    },
    "tags": []
   },
   "outputs": [],
   "source": [
    "tf.compat.v1.enable_v2_behavior()"
   ]
  },
  {
   "cell_type": "code",
   "execution_count": 6,
   "id": "initial-ministry",
   "metadata": {
    "execution": {
     "iopub.execute_input": "2021-06-01T18:01:53.739124Z",
     "iopub.status.busy": "2021-06-01T18:01:53.738571Z",
     "iopub.status.idle": "2021-06-01T18:02:10.814226Z",
     "shell.execute_reply": "2021-06-01T18:02:10.813768Z",
     "shell.execute_reply.started": "2021-06-01T15:24:57.476841Z"
    },
    "papermill": {
     "duration": 17.112807,
     "end_time": "2021-06-01T18:02:10.814357",
     "exception": false,
     "start_time": "2021-06-01T18:01:53.701550",
     "status": "completed"
    },
    "tags": []
   },
   "outputs": [
    {
     "name": "stdout",
     "output_type": "stream",
     "text": [
      "\r\n",
      "\r\n",
      "\r\n",
      "The following additional packages will be installed:\r\n",
      "  freeglut3 libglu1-mesa\r\n",
      "Suggested packages:\r\n",
      "  python-numpy libgle3\r\n",
      "The following NEW packages will be installed:\r\n",
      "  freeglut3 libglu1-mesa python-opengl\r\n",
      "0 upgraded, 3 newly installed, 0 to remove and 19 not upgraded.\r\n",
      "Need to get 738 kB of archives.\r\n",
      "After this operation, 6207 kB of additional disk space will be used.\r\n",
      "Get:1 http://archive.ubuntu.com/ubuntu bionic/universe amd64 freeglut3 amd64 2.8.1-3 [73.6 kB]\r\n",
      "Get:2 http://archive.ubuntu.com/ubuntu bionic/main amd64 libglu1-mesa amd64 9.0.0-2.1build1 [168 kB]\r\n",
      "Get:3 http://archive.ubuntu.com/ubuntu bionic/universe amd64 python-opengl all 3.1.0+dfsg-1 [496 kB]\r\n",
      "Fetched 738 kB in 2s (320 kB/s)\r\n",
      "debconf: delaying package configuration, since apt-utils is not installed\r\n",
      "Selecting previously unselected package freeglut3:amd64.\r\n",
      "(Reading database ... 100757 files and directories currently installed.)\r\n",
      "Preparing to unpack .../freeglut3_2.8.1-3_amd64.deb ...\r\n",
      "Unpacking freeglut3:amd64 (2.8.1-3) ...\r\n",
      "Selecting previously unselected package libglu1-mesa:amd64.\r\n",
      "Preparing to unpack .../libglu1-mesa_9.0.0-2.1build1_amd64.deb ...\r\n",
      "Unpacking libglu1-mesa:amd64 (9.0.0-2.1build1) ...\r\n",
      "Selecting previously unselected package python-opengl.\r\n",
      "Preparing to unpack .../python-opengl_3.1.0+dfsg-1_all.deb ...\r\n",
      "Unpacking python-opengl (3.1.0+dfsg-1) ...\r\n",
      "Setting up freeglut3:amd64 (2.8.1-3) ...\r\n",
      "Setting up libglu1-mesa:amd64 (9.0.0-2.1build1) ...\r\n",
      "Setting up python-opengl (3.1.0+dfsg-1) ...\r\n",
      "Processing triggers for libc-bin (2.27-3ubuntu1.4) ...\r\n",
      "/sbin/ldconfig.real: File /usr/lib/x86_64-linux-gnu/libcuda.so.1 is empty, not checked.\r\n",
      "/sbin/ldconfig.real: File /usr/lib/x86_64-linux-gnu/libnvidia-ml.so.1 is empty, not checked.\r\n",
      "/sbin/ldconfig.real: File /usr/lib/x86_64-linux-gnu/libcuda.so is empty, not checked.\r\n",
      "/sbin/ldconfig.real: File /usr/lib/x86_64-linux-gnu/libnvidia-ptxjitcompiler.so.1 is empty, not checked.\r\n",
      "/sbin/ldconfig.real: File /usr/lib/x86_64-linux-gnu/libnvidia-cfg.so.450.51.06 is empty, not checked.\r\n",
      "/sbin/ldconfig.real: File /usr/lib/x86_64-linux-gnu/libnvidia-ml.so.450.51.06 is empty, not checked.\r\n",
      "/sbin/ldconfig.real: File /usr/lib/x86_64-linux-gnu/libnvidia-opencl.so.1 is empty, not checked.\r\n",
      "/sbin/ldconfig.real: File /usr/lib/x86_64-linux-gnu/libnvidia-allocator.so.450.51.06 is empty, not checked.\r\n",
      "/sbin/ldconfig.real: File /usr/lib/x86_64-linux-gnu/libnvidia-ptxjitcompiler.so.450.51.06 is empty, not checked.\r\n",
      "/sbin/ldconfig.real: File /usr/lib/x86_64-linux-gnu/libnvidia-allocator.so.1 is empty, not checked.\r\n",
      "/sbin/ldconfig.real: File /usr/lib/x86_64-linux-gnu/libnvidia-opencl.so.450.51.06 is empty, not checked.\r\n",
      "/sbin/ldconfig.real: File /usr/lib/x86_64-linux-gnu/libcuda.so.450.51.06 is empty, not checked.\r\n",
      "/sbin/ldconfig.real: File /usr/lib/x86_64-linux-gnu/libnvidia-cfg.so.1 is empty, not checked.\r\n",
      "/sbin/ldconfig.real: File /usr/lib/x86_64-linux-gnu/libnvidia-compiler.so.450.51.06 is empty, not checked.\r\n",
      "Collecting pyvirtualdisplay\r\n",
      "  Downloading PyVirtualDisplay-2.2-py3-none-any.whl (15 kB)\r\n",
      "Collecting EasyProcess\r\n",
      "  Downloading EasyProcess-0.3-py2.py3-none-any.whl (7.9 kB)\r\n",
      "Installing collected packages: EasyProcess, pyvirtualdisplay\r\n",
      "Successfully installed EasyProcess-0.3 pyvirtualdisplay-2.2\r\n"
     ]
    }
   ],
   "source": [
    "!apt-get install python-opengl -y\n",
    "!pip install pyvirtualdisplay"
   ]
  },
  {
   "cell_type": "code",
   "execution_count": 7,
   "id": "advanced-dietary",
   "metadata": {
    "execution": {
     "iopub.execute_input": "2021-06-01T18:02:10.909253Z",
     "iopub.status.busy": "2021-06-01T18:02:10.908477Z",
     "iopub.status.idle": "2021-06-01T18:02:10.918794Z",
     "shell.execute_reply": "2021-06-01T18:02:10.918383Z",
     "shell.execute_reply.started": "2021-06-01T15:25:04.681511Z"
    },
    "papermill": {
     "duration": 0.059259,
     "end_time": "2021-06-01T18:02:10.918902",
     "exception": false,
     "start_time": "2021-06-01T18:02:10.859643",
     "status": "completed"
    },
    "tags": []
   },
   "outputs": [],
   "source": [
    "import  pyvirtualdisplay  as pyv"
   ]
  },
  {
   "cell_type": "code",
   "execution_count": 8,
   "id": "bibliographic-throw",
   "metadata": {
    "execution": {
     "iopub.execute_input": "2021-06-01T18:02:11.012890Z",
     "iopub.status.busy": "2021-06-01T18:02:11.012155Z",
     "iopub.status.idle": "2021-06-01T18:02:11.307966Z",
     "shell.execute_reply": "2021-06-01T18:02:11.307108Z",
     "shell.execute_reply.started": "2021-06-01T15:25:04.693075Z"
    },
    "papermill": {
     "duration": 0.344435,
     "end_time": "2021-06-01T18:02:11.308109",
     "exception": false,
     "start_time": "2021-06-01T18:02:10.963674",
     "status": "completed"
    },
    "tags": []
   },
   "outputs": [],
   "source": [
    "display = pyv.Display(visible=0, size=(1400,900)).start()"
   ]
  },
  {
   "cell_type": "code",
   "execution_count": 9,
   "id": "digital-startup",
   "metadata": {
    "execution": {
     "iopub.execute_input": "2021-06-01T18:02:11.407271Z",
     "iopub.status.busy": "2021-06-01T18:02:11.406726Z",
     "iopub.status.idle": "2021-06-01T18:02:20.470160Z",
     "shell.execute_reply": "2021-06-01T18:02:20.469681Z",
     "shell.execute_reply.started": "2021-06-01T15:25:04.778316Z"
    },
    "papermill": {
     "duration": 9.117213,
     "end_time": "2021-06-01T18:02:20.470318",
     "exception": false,
     "start_time": "2021-06-01T18:02:11.353105",
     "status": "completed"
    },
    "tags": []
   },
   "outputs": [
    {
     "name": "stdout",
     "output_type": "stream",
     "text": [
      "Collecting tf_agents==0.6.0\r\n",
      "  Downloading tf_agents-0.6.0-py3-none-any.whl (1.1 MB)\r\n",
      "\u001b[K     |████████████████████████████████| 1.1 MB 413 kB/s \r\n",
      "\u001b[?25hCollecting cloudpickle==1.3\r\n",
      "  Downloading cloudpickle-1.3.0-py2.py3-none-any.whl (26 kB)\r\n",
      "Requirement already satisfied: absl-py>=0.6.1 in /opt/conda/lib/python3.7/site-packages (from tf_agents==0.6.0) (0.12.0)\r\n",
      "Requirement already satisfied: numpy>=1.13.3 in /opt/conda/lib/python3.7/site-packages (from tf_agents==0.6.0) (1.19.5)\r\n",
      "Requirement already satisfied: wrapt>=1.11.1 in /opt/conda/lib/python3.7/site-packages (from tf_agents==0.6.0) (1.12.1)\r\n",
      "Requirement already satisfied: six>=1.10.0 in /opt/conda/lib/python3.7/site-packages (from tf_agents==0.6.0) (1.15.0)\r\n",
      "Requirement already satisfied: protobuf>=3.11.3 in /opt/conda/lib/python3.7/site-packages (from tf_agents==0.6.0) (3.15.8)\r\n",
      "Collecting gin-config>=0.3.0\r\n",
      "  Downloading gin_config-0.4.0-py2.py3-none-any.whl (46 kB)\r\n",
      "\u001b[K     |████████████████████████████████| 46 kB 2.4 MB/s \r\n",
      "\u001b[?25hRequirement already satisfied: tensorflow-probability>=0.11.0 in /opt/conda/lib/python3.7/site-packages (from tf_agents==0.6.0) (0.12.2)\r\n",
      "Requirement already satisfied: decorator in /opt/conda/lib/python3.7/site-packages (from tensorflow-probability>=0.11.0->tf_agents==0.6.0) (4.4.2)\r\n",
      "Requirement already satisfied: dm-tree in /opt/conda/lib/python3.7/site-packages (from tensorflow-probability>=0.11.0->tf_agents==0.6.0) (0.1.6)\r\n",
      "Requirement already satisfied: gast>=0.3.2 in /opt/conda/lib/python3.7/site-packages (from tensorflow-probability>=0.11.0->tf_agents==0.6.0) (0.3.3)\r\n",
      "Installing collected packages: cloudpickle, gin-config, tf-agents\r\n",
      "  Attempting uninstall: cloudpickle\r\n",
      "    Found existing installation: cloudpickle 1.6.0\r\n",
      "    Uninstalling cloudpickle-1.6.0:\r\n",
      "      Successfully uninstalled cloudpickle-1.6.0\r\n",
      "\u001b[31mERROR: pip's dependency resolver does not currently take into account all the packages that are installed. This behaviour is the source of the following dependency conflicts.\r\n",
      "distributed 2021.4.0 requires cloudpickle>=1.5.0, but you have cloudpickle 1.3.0 which is incompatible.\u001b[0m\r\n",
      "Successfully installed cloudpickle-1.3.0 gin-config-0.4.0 tf-agents-0.6.0\r\n"
     ]
    }
   ],
   "source": [
    "!pip install tf_agents==0.6.0\n",
    "\n"
   ]
  },
  {
   "cell_type": "code",
   "execution_count": 10,
   "id": "complicated-faculty",
   "metadata": {
    "execution": {
     "iopub.execute_input": "2021-06-01T18:02:20.587266Z",
     "iopub.status.busy": "2021-06-01T18:02:20.586376Z",
     "iopub.status.idle": "2021-06-01T18:02:21.416208Z",
     "shell.execute_reply": "2021-06-01T18:02:21.415684Z",
     "shell.execute_reply.started": "2021-06-01T15:25:10.391454Z"
    },
    "papermill": {
     "duration": 0.893702,
     "end_time": "2021-06-01T18:02:21.416346",
     "exception": false,
     "start_time": "2021-06-01T18:02:20.522644",
     "status": "completed"
    },
    "tags": []
   },
   "outputs": [],
   "source": [
    "from tf_agents.agents.dqn import dqn_agent\n",
    "from tf_agents.drivers import dynamic_step_driver\n",
    "from tf_agents.environments import suite_gym\n",
    "from tf_agents.environments import tf_py_environment\n",
    "from tf_agents.eval  import metric_utils\n",
    "from tf_agents.networks import q_network\n",
    "from tf_agents.metrics import tf_metrics\n",
    "from tf_agents.policies import random_tf_policy\n",
    "from tf_agents.replay_buffers import tf_uniform_replay_buffer\n",
    "from tf_agents.trajectories import trajectory\n",
    "from tf_agents.utils import common"
   ]
  },
  {
   "cell_type": "code",
   "execution_count": 11,
   "id": "driven-cosmetic",
   "metadata": {
    "execution": {
     "iopub.execute_input": "2021-06-01T18:02:21.523753Z",
     "iopub.status.busy": "2021-06-01T18:02:21.522990Z",
     "iopub.status.idle": "2021-06-01T18:02:21.525809Z",
     "shell.execute_reply": "2021-06-01T18:02:21.525401Z",
     "shell.execute_reply.started": "2021-06-01T15:25:10.906422Z"
    },
    "papermill": {
     "duration": 0.057827,
     "end_time": "2021-06-01T18:02:21.525917",
     "exception": false,
     "start_time": "2021-06-01T18:02:21.468090",
     "status": "completed"
    },
    "tags": []
   },
   "outputs": [],
   "source": [
    "#Hyperparameters\n",
    "\n",
    "num_iterations = 20000\n",
    "initial_collect_step = 1000\n",
    "collect_steps_per_iteration = 1\n",
    "replay_buffer_max_length = 100000\n",
    "\n",
    "batch_size = 64\n",
    "learning_rate = 1e-3\n",
    "log_interval = 200\n",
    "\n",
    "\n",
    "num_eval_episodes = 10\n",
    "eval_interval = 1000\n"
   ]
  },
  {
   "cell_type": "code",
   "execution_count": 12,
   "id": "noted-resolution",
   "metadata": {
    "execution": {
     "iopub.execute_input": "2021-06-01T18:02:21.631725Z",
     "iopub.status.busy": "2021-06-01T18:02:21.631052Z",
     "iopub.status.idle": "2021-06-01T18:02:21.642060Z",
     "shell.execute_reply": "2021-06-01T18:02:21.641636Z",
     "shell.execute_reply.started": "2021-06-01T15:25:10.911988Z"
    },
    "papermill": {
     "duration": 0.065339,
     "end_time": "2021-06-01T18:02:21.642166",
     "exception": false,
     "start_time": "2021-06-01T18:02:21.576827",
     "status": "completed"
    },
    "tags": []
   },
   "outputs": [],
   "source": [
    "#environment\n",
    "\n",
    "env_name = \"CartPole-v0\"\n",
    "env = suite_gym.load(env_name)"
   ]
  },
  {
   "cell_type": "code",
   "execution_count": 13,
   "id": "existing-folks",
   "metadata": {
    "execution": {
     "iopub.execute_input": "2021-06-01T18:02:21.750356Z",
     "iopub.status.busy": "2021-06-01T18:02:21.749706Z",
     "iopub.status.idle": "2021-06-01T18:02:22.386721Z",
     "shell.execute_reply": "2021-06-01T18:02:22.387158Z",
     "shell.execute_reply.started": "2021-06-01T15:25:10.929463Z"
    },
    "papermill": {
     "duration": 0.693201,
     "end_time": "2021-06-01T18:02:22.387317",
     "exception": false,
     "start_time": "2021-06-01T18:02:21.694116",
     "status": "completed"
    },
    "tags": []
   },
   "outputs": [
    {
     "data": {
      "image/png": "[encoded data removed]",
      "text/plain": [
       "<PIL.Image.Image image mode=RGB size=600x400 at 0x7F1A78B0CD90>"
      ]
     },
     "execution_count": 13,
     "metadata": {},
     "output_type": "execute_result"
    }
   ],
   "source": [
    "import PIL\n",
    "env.reset()   # setting  initial env \n",
    "PIL.Image.fromarray(env.render())"
   ]
  },
  {
   "cell_type": "code",
   "execution_count": 14,
   "id": "noticed-ready",
   "metadata": {
    "execution": {
     "iopub.execute_input": "2021-06-01T18:02:22.496686Z",
     "iopub.status.busy": "2021-06-01T18:02:22.495976Z",
     "iopub.status.idle": "2021-06-01T18:02:22.500095Z",
     "shell.execute_reply": "2021-06-01T18:02:22.500708Z",
     "shell.execute_reply.started": "2021-06-01T15:25:11.278743Z"
    },
    "papermill": {
     "duration": 0.062233,
     "end_time": "2021-06-01T18:02:22.500878",
     "exception": false,
     "start_time": "2021-06-01T18:02:22.438645",
     "status": "completed"
    },
    "tags": []
   },
   "outputs": [
    {
     "name": "stdout",
     "output_type": "stream",
     "text": [
      "observation Spec:/n\n",
      "BoundedArraySpec(shape=(4,), dtype=dtype('float32'), name='observation', minimum=[-4.8000002e+00 -3.4028235e+38 -4.1887903e-01 -3.4028235e+38], maximum=[4.8000002e+00 3.4028235e+38 4.1887903e-01 3.4028235e+38])\n"
     ]
    }
   ],
   "source": [
    "print(\"observation Spec:/n\")  # array of 4  (cart : position, velo; poll: ang positio, ang  velo)\n",
    "print(env.time_step_spec().observation)"
   ]
  },
  {
   "cell_type": "code",
   "execution_count": 15,
   "id": "sweet-updating",
   "metadata": {
    "execution": {
     "iopub.execute_input": "2021-06-01T18:02:22.609124Z",
     "iopub.status.busy": "2021-06-01T18:02:22.608519Z",
     "iopub.status.idle": "2021-06-01T18:02:22.611602Z",
     "shell.execute_reply": "2021-06-01T18:02:22.612172Z",
     "shell.execute_reply.started": "2021-06-01T15:25:11.288456Z"
    },
    "papermill": {
     "duration": 0.059212,
     "end_time": "2021-06-01T18:02:22.612351",
     "exception": false,
     "start_time": "2021-06-01T18:02:22.553139",
     "status": "completed"
    },
    "tags": []
   },
   "outputs": [
    {
     "name": "stdout",
     "output_type": "stream",
     "text": [
      "reward spec:/n\n",
      "ArraySpec(shape=(), dtype=dtype('float32'), name='reward')\n"
     ]
    }
   ],
   "source": [
    "print(\"reward spec:/n\")   # scalar float\n",
    "print(env.time_step_spec().reward)"
   ]
  },
  {
   "cell_type": "code",
   "execution_count": 16,
   "id": "mineral-growth",
   "metadata": {
    "execution": {
     "iopub.execute_input": "2021-06-01T18:02:22.721094Z",
     "iopub.status.busy": "2021-06-01T18:02:22.720541Z",
     "iopub.status.idle": "2021-06-01T18:02:22.723930Z",
     "shell.execute_reply": "2021-06-01T18:02:22.724462Z",
     "shell.execute_reply.started": "2021-06-01T15:25:11.298898Z"
    },
    "papermill": {
     "duration": 0.059158,
     "end_time": "2021-06-01T18:02:22.724628",
     "exception": false,
     "start_time": "2021-06-01T18:02:22.665470",
     "status": "completed"
    },
    "tags": []
   },
   "outputs": [
    {
     "name": "stdout",
     "output_type": "stream",
     "text": [
      "action spec:/n\n",
      "BoundedArraySpec(shape=(), dtype=dtype('int64'), name='action', minimum=0, maximum=1)\n"
     ]
    }
   ],
   "source": [
    "print(\"action spec:/n\"\n",
    "     )     # 2  possible value 0-- left, 1--right\n",
    "print(env.action_spec())"
   ]
  },
  {
   "cell_type": "code",
   "execution_count": 17,
   "id": "suffering-acquisition",
   "metadata": {
    "execution": {
     "iopub.execute_input": "2021-06-01T18:02:22.839024Z",
     "iopub.status.busy": "2021-06-01T18:02:22.838284Z",
     "iopub.status.idle": "2021-06-01T18:02:22.841175Z",
     "shell.execute_reply": "2021-06-01T18:02:22.841755Z",
     "shell.execute_reply.started": "2021-06-01T15:25:11.306863Z"
    },
    "papermill": {
     "duration": 0.064752,
     "end_time": "2021-06-01T18:02:22.841920",
     "exception": false,
     "start_time": "2021-06-01T18:02:22.777168",
     "status": "completed"
    },
    "tags": []
   },
   "outputs": [
    {
     "name": "stdout",
     "output_type": "stream",
     "text": [
      "Time Step : TimeStep(step_type=array(0, dtype=int32), reward=array(0., dtype=float32), discount=array(1., dtype=float32), observation=array([ 0.04954891, -0.01705808, -0.00066431, -0.01842035], dtype=float32))\n",
      "\n",
      "Next time step: TimeStep(step_type=array(1, dtype=int32), reward=array(1., dtype=float32), discount=array(1., dtype=float32), observation=array([ 0.04920775,  0.17807339, -0.00103272, -0.3113128 ], dtype=float32))\n"
     ]
    }
   ],
   "source": [
    "import numpy as np\n",
    "time_step = env.reset()\n",
    "\n",
    "print(\"Time Step :\", time_step)\n",
    "\n",
    "\n",
    "action = np.array(1, dtype= np.int32)\n",
    "print()\n",
    "#for i in range(55500000):\n",
    "next_time_step = env.step(action)\n",
    "print(\"Next time step:\", next_time_step)"
   ]
  },
  {
   "cell_type": "code",
   "execution_count": null,
   "id": "expanded-custom",
   "metadata": {
    "papermill": {
     "duration": 0.052519,
     "end_time": "2021-06-01T18:02:22.948394",
     "exception": false,
     "start_time": "2021-06-01T18:02:22.895875",
     "status": "completed"
    },
    "tags": []
   },
   "outputs": [],
   "source": []
  },
  {
   "cell_type": "code",
   "execution_count": 18,
   "id": "amended-result",
   "metadata": {
    "execution": {
     "iopub.execute_input": "2021-06-01T18:02:23.058735Z",
     "iopub.status.busy": "2021-06-01T18:02:23.057737Z",
     "iopub.status.idle": "2021-06-01T18:02:23.075022Z",
     "shell.execute_reply": "2021-06-01T18:02:23.074603Z",
     "shell.execute_reply.started": "2021-06-01T15:25:11.321918Z"
    },
    "papermill": {
     "duration": 0.074159,
     "end_time": "2021-06-01T18:02:23.075129",
     "exception": false,
     "start_time": "2021-06-01T18:02:23.000970",
     "status": "completed"
    },
    "tags": []
   },
   "outputs": [
    {
     "data": {
      "image/png": "[encoded data removed]",
      "text/plain": [
       "<PIL.Image.Image image mode=RGB size=600x400 at 0x7F1A69613710>"
      ]
     },
     "execution_count": 18,
     "metadata": {},
     "output_type": "execute_result"
    }
   ],
   "source": [
    "PIL.Image.fromarray(env.render())"
   ]
  },
  {
   "cell_type": "code",
   "execution_count": 19,
   "id": "allied-chambers",
   "metadata": {
    "execution": {
     "iopub.execute_input": "2021-06-01T18:02:23.187776Z",
     "iopub.status.busy": "2021-06-01T18:02:23.187036Z",
     "iopub.status.idle": "2021-06-01T18:02:23.189323Z",
     "shell.execute_reply": "2021-06-01T18:02:23.189680Z",
     "shell.execute_reply.started": "2021-06-01T15:26:04.004429Z"
    },
    "papermill": {
     "duration": 0.061926,
     "end_time": "2021-06-01T18:02:23.189811",
     "exception": false,
     "start_time": "2021-06-01T18:02:23.127885",
     "status": "completed"
    },
    "tags": []
   },
   "outputs": [],
   "source": [
    "train_py_env = suite_gym.load(env_name)   #train env\n",
    "eval_py_env = suite_gym.load(env_name)    #val env"
   ]
  },
  {
   "cell_type": "code",
   "execution_count": 20,
   "id": "stopped-austin",
   "metadata": {
    "execution": {
     "iopub.execute_input": "2021-06-01T18:02:23.300167Z",
     "iopub.status.busy": "2021-06-01T18:02:23.299003Z",
     "iopub.status.idle": "2021-06-01T18:02:23.305725Z",
     "shell.execute_reply": "2021-06-01T18:02:23.305337Z",
     "shell.execute_reply.started": "2021-06-01T15:27:39.144677Z"
    },
    "papermill": {
     "duration": 0.063706,
     "end_time": "2021-06-01T18:02:23.305829",
     "exception": false,
     "start_time": "2021-06-01T18:02:23.242123",
     "status": "completed"
    },
    "tags": []
   },
   "outputs": [],
   "source": [
    "train_env = tf_py_environment.TFPyEnvironment(train_py_env)\n",
    "eval_env = tf_py_environment.TFPyEnvironment(eval_py_env)    #tf suitable form"
   ]
  },
  {
   "cell_type": "code",
   "execution_count": 21,
   "id": "facial-personality",
   "metadata": {
    "execution": {
     "iopub.execute_input": "2021-06-01T18:02:23.414934Z",
     "iopub.status.busy": "2021-06-01T18:02:23.414428Z",
     "iopub.status.idle": "2021-06-01T18:02:23.439589Z",
     "shell.execute_reply": "2021-06-01T18:02:23.439129Z",
     "shell.execute_reply.started": "2021-06-01T15:30:47.470395Z"
    },
    "papermill": {
     "duration": 0.081733,
     "end_time": "2021-06-01T18:02:23.439715",
     "exception": false,
     "start_time": "2021-06-01T18:02:23.357982",
     "status": "completed"
    },
    "tags": []
   },
   "outputs": [],
   "source": [
    "#q network\n",
    "\n",
    "fc_layer_params = (100,)   #hidden  layers \n",
    "\n",
    "q_net = q_network.QNetwork(train_env.observation_spec(), train_env.action_spec(), fc_layer_params =  fc_layer_params   )"
   ]
  },
  {
   "cell_type": "code",
   "execution_count": 22,
   "id": "civic-halifax",
   "metadata": {
    "execution": {
     "iopub.execute_input": "2021-06-01T18:02:25.293933Z",
     "iopub.status.busy": "2021-06-01T18:02:25.292627Z",
     "iopub.status.idle": "2021-06-01T18:02:26.500242Z",
     "shell.execute_reply": "2021-06-01T18:02:26.499756Z",
     "shell.execute_reply.started": "2021-06-01T15:35:59.987560Z"
    },
    "papermill": {
     "duration": 3.007317,
     "end_time": "2021-06-01T18:02:26.500374",
     "exception": false,
     "start_time": "2021-06-01T18:02:23.493057",
     "status": "completed"
    },
    "tags": []
   },
   "outputs": [],
   "source": [
    "optimizer = tf.compat.v1.train.AdamOptimizer(learning_rate= learning_rate)\n",
    "\n",
    "train_step_counter = tf.Variable(0)\n",
    "\n",
    "agent = dqn_agent.DqnAgent(train_env.time_step_spec(), train_env.action_spec(), q_network=q_net, optimizer=optimizer, td_errors_loss_fn=common.element_wise_squared_loss, \n",
    "                           train_step_counter= train_step_counter )\n",
    "\n",
    "agent.initialize()"
   ]
  },
  {
   "cell_type": "code",
   "execution_count": 23,
   "id": "higher-covering",
   "metadata": {
    "execution": {
     "iopub.execute_input": "2021-06-01T18:02:26.611918Z",
     "iopub.status.busy": "2021-06-01T18:02:26.610473Z",
     "iopub.status.idle": "2021-06-01T18:02:26.612696Z",
     "shell.execute_reply": "2021-06-01T18:02:26.613091Z",
     "shell.execute_reply.started": "2021-06-01T15:37:52.787741Z"
    },
    "papermill": {
     "duration": 0.059541,
     "end_time": "2021-06-01T18:02:26.613252",
     "exception": false,
     "start_time": "2021-06-01T18:02:26.553711",
     "status": "completed"
    },
    "tags": []
   },
   "outputs": [],
   "source": [
    "#policy two type: -- main used for evalution and deployment,  seconf that used to data collection\n",
    "\n",
    "eval_policy = agent.policy\n",
    "collect_policy = agent.collect_policy\n",
    "\n"
   ]
  },
  {
   "cell_type": "code",
   "execution_count": 24,
   "id": "worst-carnival",
   "metadata": {
    "execution": {
     "iopub.execute_input": "2021-06-01T18:02:26.723376Z",
     "iopub.status.busy": "2021-06-01T18:02:26.722136Z",
     "iopub.status.idle": "2021-06-01T18:02:26.724487Z",
     "shell.execute_reply": "2021-06-01T18:02:26.724876Z",
     "shell.execute_reply.started": "2021-06-01T15:39:22.781556Z"
    },
    "papermill": {
     "duration": 0.058921,
     "end_time": "2021-06-01T18:02:26.724995",
     "exception": false,
     "start_time": "2021-06-01T18:02:26.666074",
     "status": "completed"
    },
    "tags": []
   },
   "outputs": [],
   "source": [
    "#random policy independent of agent\n",
    "random_policy =  random_tf_policy.RandomTFPolicy(train_env.time_step_spec(),  train_env.action_spec())"
   ]
  },
  {
   "cell_type": "code",
   "execution_count": 25,
   "id": "verified-poland",
   "metadata": {
    "execution": {
     "iopub.execute_input": "2021-06-01T18:02:26.835135Z",
     "iopub.status.busy": "2021-06-01T18:02:26.834652Z",
     "iopub.status.idle": "2021-06-01T18:02:26.839124Z",
     "shell.execute_reply": "2021-06-01T18:02:26.838741Z",
     "shell.execute_reply.started": "2021-06-01T15:41:03.131049Z"
    },
    "papermill": {
     "duration": 0.062103,
     "end_time": "2021-06-01T18:02:26.839243",
     "exception": false,
     "start_time": "2021-06-01T18:02:26.777140",
     "status": "completed"
    },
    "tags": []
   },
   "outputs": [],
   "source": [
    "example_environment = tf_py_environment.TFPyEnvironment( suite_gym.load(\"CartPole-v0\"))"
   ]
  },
  {
   "cell_type": "code",
   "execution_count": 26,
   "id": "operational-storm",
   "metadata": {
    "execution": {
     "iopub.execute_input": "2021-06-01T18:02:26.947746Z",
     "iopub.status.busy": "2021-06-01T18:02:26.947229Z",
     "iopub.status.idle": "2021-06-01T18:02:26.951596Z",
     "shell.execute_reply": "2021-06-01T18:02:26.951958Z",
     "shell.execute_reply.started": "2021-06-01T15:41:22.035178Z"
    },
    "papermill": {
     "duration": 0.060624,
     "end_time": "2021-06-01T18:02:26.952085",
     "exception": false,
     "start_time": "2021-06-01T18:02:26.891461",
     "status": "completed"
    },
    "tags": []
   },
   "outputs": [],
   "source": [
    "time_step = example_environment.reset()"
   ]
  },
  {
   "cell_type": "code",
   "execution_count": 27,
   "id": "fallen-positive",
   "metadata": {
    "execution": {
     "iopub.execute_input": "2021-06-01T18:02:27.063826Z",
     "iopub.status.busy": "2021-06-01T18:02:27.063031Z",
     "iopub.status.idle": "2021-06-01T18:02:27.081144Z",
     "shell.execute_reply": "2021-06-01T18:02:27.080708Z",
     "shell.execute_reply.started": "2021-06-01T15:47:00.975419Z"
    },
    "papermill": {
     "duration": 0.075776,
     "end_time": "2021-06-01T18:02:27.081270",
     "exception": false,
     "start_time": "2021-06-01T18:02:27.005494",
     "status": "completed"
    },
    "tags": []
   },
   "outputs": [
    {
     "data": {
      "text/plain": [
       "PolicyStep(action=<tf.Tensor: shape=(1,), dtype=int64, numpy=array([1])>, state=(), info=())"
      ]
     },
     "execution_count": 27,
     "metadata": {},
     "output_type": "execute_result"
    }
   ],
   "source": [
    "actl = random_policy.action(time_step)   #get action from policy bby giving time_step\n",
    "\n",
    "actl"
   ]
  },
  {
   "cell_type": "markdown",
   "id": "driving-fairy",
   "metadata": {
    "papermill": {
     "duration": 0.053149,
     "end_time": "2021-06-01T18:02:27.187546",
     "exception": false,
     "start_time": "2021-06-01T18:02:27.134397",
     "status": "completed"
    },
    "tags": []
   },
   "source": []
  },
  {
   "cell_type": "code",
   "execution_count": 28,
   "id": "understanding-schema",
   "metadata": {
    "execution": {
     "iopub.execute_input": "2021-06-01T18:02:27.298152Z",
     "iopub.status.busy": "2021-06-01T18:02:27.297228Z",
     "iopub.status.idle": "2021-06-01T18:02:27.301305Z",
     "shell.execute_reply": "2021-06-01T18:02:27.301699Z",
     "shell.execute_reply.started": "2021-06-01T15:46:04.338482Z"
    },
    "papermill": {
     "duration": 0.061094,
     "end_time": "2021-06-01T18:02:27.301824",
     "exception": false,
     "start_time": "2021-06-01T18:02:27.240730",
     "status": "completed"
    },
    "tags": []
   },
   "outputs": [],
   "source": [
    "time_step = example_environment.step(actl.action)"
   ]
  },
  {
   "cell_type": "code",
   "execution_count": 29,
   "id": "distinct-premium",
   "metadata": {
    "execution": {
     "iopub.execute_input": "2021-06-01T18:02:27.412905Z",
     "iopub.status.busy": "2021-06-01T18:02:27.412406Z",
     "iopub.status.idle": "2021-06-01T18:02:27.419550Z",
     "shell.execute_reply": "2021-06-01T18:02:27.418943Z",
     "shell.execute_reply.started": "2021-06-01T15:46:10.019663Z"
    },
    "papermill": {
     "duration": 0.064373,
     "end_time": "2021-06-01T18:02:27.419690",
     "exception": false,
     "start_time": "2021-06-01T18:02:27.355317",
     "status": "completed"
    },
    "tags": []
   },
   "outputs": [
    {
     "name": "stdout",
     "output_type": "stream",
     "text": [
      "TimeStep(step_type=<tf.Tensor: shape=(1,), dtype=int32, numpy=array([1], dtype=int32)>, reward=<tf.Tensor: shape=(1,), dtype=float32, numpy=array([1.], dtype=float32)>, discount=<tf.Tensor: shape=(1,), dtype=float32, numpy=array([1.], dtype=float32)>, observation=<tf.Tensor: shape=(1, 4), dtype=float32, numpy=\n",
      "array([[-0.03788718,  0.16904636,  0.01428416, -0.28479466]],\n",
      "      dtype=float32)>)\n"
     ]
    }
   ],
   "source": [
    "print(time_step)"
   ]
  },
  {
   "cell_type": "code",
   "execution_count": 30,
   "id": "unlimited-breathing",
   "metadata": {
    "execution": {
     "iopub.execute_input": "2021-06-01T18:02:27.533220Z",
     "iopub.status.busy": "2021-06-01T18:02:27.531798Z",
     "iopub.status.idle": "2021-06-01T18:02:27.534552Z",
     "shell.execute_reply": "2021-06-01T18:02:27.534146Z",
     "shell.execute_reply.started": "2021-06-01T16:12:35.111320Z"
    },
    "papermill": {
     "duration": 0.061121,
     "end_time": "2021-06-01T18:02:27.534657",
     "exception": false,
     "start_time": "2021-06-01T18:02:27.473536",
     "status": "completed"
    },
    "tags": []
   },
   "outputs": [],
   "source": [
    "#matrics and evalution\n",
    "def compute_avg_return(environment, policy, num_episodes=10):\n",
    "    \n",
    "    total_return = 0.0\n",
    "    \n",
    "    for _ in range (num_episodes):\n",
    "        \n",
    "        time_step = environment.reset()\n",
    "        \n",
    "        episode_return = 0.0\n",
    "        \n",
    "        while not time_step.is_last():\n",
    "            action_step = policy.action(time_step)\n",
    "            \n",
    "            time_step = environment.step(action_step.action)\n",
    "            \n",
    "            episode_return += time_step.reward\n",
    "            \n",
    "        total_return += episode_return\n",
    "        \n",
    "        \n",
    "    avg_return = total_return/num_episodes\n",
    "    \n",
    "    return avg_return.numpy()[0]"
   ]
  },
  {
   "cell_type": "code",
   "execution_count": 31,
   "id": "allied-puzzle",
   "metadata": {
    "execution": {
     "iopub.execute_input": "2021-06-01T18:02:27.645577Z",
     "iopub.status.busy": "2021-06-01T18:02:27.645026Z",
     "iopub.status.idle": "2021-06-01T18:02:28.157437Z",
     "shell.execute_reply": "2021-06-01T18:02:28.156996Z",
     "shell.execute_reply.started": "2021-06-01T16:12:35.631558Z"
    },
    "papermill": {
     "duration": 0.569996,
     "end_time": "2021-06-01T18:02:28.157564",
     "exception": false,
     "start_time": "2021-06-01T18:02:27.587568",
     "status": "completed"
    },
    "tags": []
   },
   "outputs": [
    {
     "data": {
      "text/plain": [
       "21.3"
      ]
     },
     "execution_count": 31,
     "metadata": {},
     "output_type": "execute_result"
    }
   ],
   "source": [
    "compute_avg_return(eval_env, random_policy, num_eval_episodes)"
   ]
  },
  {
   "cell_type": "code",
   "execution_count": 32,
   "id": "chinese-introduction",
   "metadata": {
    "execution": {
     "iopub.execute_input": "2021-06-01T18:02:28.268975Z",
     "iopub.status.busy": "2021-06-01T18:02:28.268464Z",
     "iopub.status.idle": "2021-06-01T18:02:28.286356Z",
     "shell.execute_reply": "2021-06-01T18:02:28.285941Z",
     "shell.execute_reply.started": "2021-06-01T16:16:15.666913Z"
    },
    "papermill": {
     "duration": 0.075172,
     "end_time": "2021-06-01T18:02:28.286478",
     "exception": false,
     "start_time": "2021-06-01T18:02:28.211306",
     "status": "completed"
    },
    "tags": []
   },
   "outputs": [],
   "source": [
    "#replay buffer\n",
    "replay_buffer =  tf_uniform_replay_buffer.TFUniformReplayBuffer( data_spec = agent.collect_data_spec,\n",
    "                                                               batch_size = train_env.batch_size,\n",
    "                                                               max_length= replay_buffer_max_length)\n"
   ]
  },
  {
   "cell_type": "code",
   "execution_count": 33,
   "id": "adopted-greenhouse",
   "metadata": {
    "execution": {
     "iopub.execute_input": "2021-06-01T18:02:28.397661Z",
     "iopub.status.busy": "2021-06-01T18:02:28.397090Z",
     "iopub.status.idle": "2021-06-01T18:02:28.403114Z",
     "shell.execute_reply": "2021-06-01T18:02:28.402701Z",
     "shell.execute_reply.started": "2021-06-01T16:18:02.459715Z"
    },
    "papermill": {
     "duration": 0.063333,
     "end_time": "2021-06-01T18:02:28.403239",
     "exception": false,
     "start_time": "2021-06-01T18:02:28.339906",
     "status": "completed"
    },
    "tags": []
   },
   "outputs": [
    {
     "data": {
      "text/plain": [
       "('step_type',\n",
       " 'observation',\n",
       " 'action',\n",
       " 'policy_info',\n",
       " 'next_step_type',\n",
       " 'reward',\n",
       " 'discount')"
      ]
     },
     "execution_count": 33,
     "metadata": {},
     "output_type": "execute_result"
    }
   ],
   "source": [
    "agent.collect_data_spec._fields\n",
    "\n"
   ]
  },
  {
   "cell_type": "code",
   "execution_count": 34,
   "id": "disciplinary-audio",
   "metadata": {
    "execution": {
     "iopub.execute_input": "2021-06-01T18:02:28.517378Z",
     "iopub.status.busy": "2021-06-01T18:02:28.516566Z",
     "iopub.status.idle": "2021-06-01T18:02:28.963013Z",
     "shell.execute_reply": "2021-06-01T18:02:28.961884Z",
     "shell.execute_reply.started": "2021-06-01T16:22:52.469979Z"
    },
    "papermill": {
     "duration": 0.506234,
     "end_time": "2021-06-01T18:02:28.963147",
     "exception": false,
     "start_time": "2021-06-01T18:02:28.456913",
     "status": "completed"
    },
    "tags": []
   },
   "outputs": [],
   "source": [
    "#data collection\n",
    "\n",
    "def collect_step(environment, policy, buffer):\n",
    "    time_step = environment.current_time_step()\n",
    "    action_step = policy.action(time_step)\n",
    "    next_time_step = environment.step(action_step.action)\n",
    "    traj = trajectory.from_transition(time_step, action_step, next_time_step)\n",
    "    \n",
    "    buffer.add_batch(traj)\n",
    "    \n",
    "    \n",
    "def collect_data(env, policy, buffer, steps):\n",
    "    \n",
    "    for _ in range(steps):\n",
    "        collect_step(env, policy, buffer)\n",
    "\n",
    "        \n",
    "        \n",
    "collect_data(train_env, random_policy, replay_buffer, steps=100)"
   ]
  },
  {
   "cell_type": "code",
   "execution_count": 35,
   "id": "vocal-neighborhood",
   "metadata": {
    "execution": {
     "iopub.execute_input": "2021-06-01T18:02:29.075802Z",
     "iopub.status.busy": "2021-06-01T18:02:29.075142Z",
     "iopub.status.idle": "2021-06-01T18:02:30.289623Z",
     "shell.execute_reply": "2021-06-01T18:02:30.289056Z",
     "shell.execute_reply.started": "2021-06-01T16:24:08.942432Z"
    },
    "papermill": {
     "duration": 1.272425,
     "end_time": "2021-06-01T18:02:30.289758",
     "exception": false,
     "start_time": "2021-06-01T18:02:29.017333",
     "status": "completed"
    },
    "tags": []
   },
   "outputs": [
    {
     "data": {
      "text/plain": [
       "(Trajectory(step_type=<tf.Tensor: shape=(), dtype=int32, numpy=1>, observation=<tf.Tensor: shape=(4,), dtype=float32, numpy=array([-0.02155502, -0.03163044,  0.11333431,  0.424236  ], dtype=float32)>, action=<tf.Tensor: shape=(), dtype=int64, numpy=0>, policy_info=(), next_step_type=<tf.Tensor: shape=(), dtype=int32, numpy=1>, reward=<tf.Tensor: shape=(), dtype=float32, numpy=1.0>, discount=<tf.Tensor: shape=(), dtype=float32, numpy=1.0>),\n",
       " BufferInfo(ids=<tf.Tensor: shape=(), dtype=int64, numpy=22>, probabilities=<tf.Tensor: shape=(), dtype=float32, numpy=0.01>))"
      ]
     },
     "execution_count": 35,
     "metadata": {},
     "output_type": "execute_result"
    }
   ],
   "source": [
    "#replay buffer iter\n",
    "\n",
    "iter(replay_buffer.as_dataset()).next()"
   ]
  },
  {
   "cell_type": "code",
   "execution_count": 36,
   "id": "reflected-victor",
   "metadata": {
    "execution": {
     "iopub.execute_input": "2021-06-01T18:02:30.408643Z",
     "iopub.status.busy": "2021-06-01T18:02:30.408051Z",
     "iopub.status.idle": "2021-06-01T18:02:30.491884Z",
     "shell.execute_reply": "2021-06-01T18:02:30.491091Z",
     "shell.execute_reply.started": "2021-06-01T16:28:32.070783Z"
    },
    "papermill": {
     "duration": 0.14194,
     "end_time": "2021-06-01T18:02:30.492015",
     "exception": false,
     "start_time": "2021-06-01T18:02:30.350075",
     "status": "completed"
    },
    "tags": []
   },
   "outputs": [
    {
     "data": {
      "text/plain": [
       "<PrefetchDataset shapes: (Trajectory(step_type=(64, 2), observation=(64, 2, 4), action=(64, 2), policy_info=(), next_step_type=(64, 2), reward=(64, 2), discount=(64, 2)), BufferInfo(ids=(64, 2), probabilities=(64,))), types: (Trajectory(step_type=tf.int32, observation=tf.float32, action=tf.int64, policy_info=(), next_step_type=tf.int32, reward=tf.float32, discount=tf.float32), BufferInfo(ids=tf.int64, probabilities=tf.float32))>"
      ]
     },
     "execution_count": 36,
     "metadata": {},
     "output_type": "execute_result"
    }
   ],
   "source": [
    "#create dataset (two adjacent rows  num_step=2)\n",
    "\n",
    "dataset = replay_buffer.as_dataset(num_parallel_calls=3,\n",
    "                                  sample_batch_size=batch_size,\n",
    "                                  num_steps=2).prefetch(3)\n",
    "\n",
    "\n",
    "dataset"
   ]
  },
  {
   "cell_type": "code",
   "execution_count": 37,
   "id": "danish-array",
   "metadata": {
    "execution": {
     "iopub.execute_input": "2021-06-01T18:02:30.614874Z",
     "iopub.status.busy": "2021-06-01T18:02:30.613843Z",
     "iopub.status.idle": "2021-06-01T18:02:30.698216Z",
     "shell.execute_reply": "2021-06-01T18:02:30.698619Z",
     "shell.execute_reply.started": "2021-06-01T16:29:45.551478Z"
    },
    "papermill": {
     "duration": 0.152019,
     "end_time": "2021-06-01T18:02:30.698763",
     "exception": false,
     "start_time": "2021-06-01T18:02:30.546744",
     "status": "completed"
    },
    "tags": []
   },
   "outputs": [
    {
     "data": {
      "text/plain": [
       "(Trajectory(step_type=<tf.Tensor: shape=(64, 2), dtype=int32, numpy=\n",
       " array([[1, 1],\n",
       "        [1, 1],\n",
       "        [1, 1],\n",
       "        [1, 1],\n",
       "        [1, 1],\n",
       "        [1, 1],\n",
       "        [1, 1],\n",
       "        [1, 1],\n",
       "        [0, 1],\n",
       "        [1, 1],\n",
       "        [1, 1],\n",
       "        [1, 1],\n",
       "        [1, 1],\n",
       "        [1, 1],\n",
       "        [1, 1],\n",
       "        [1, 1],\n",
       "        [1, 1],\n",
       "        [1, 1],\n",
       "        [2, 0],\n",
       "        [1, 1],\n",
       "        [1, 1],\n",
       "        [1, 1],\n",
       "        [1, 1],\n",
       "        [1, 1],\n",
       "        [1, 1],\n",
       "        [1, 1],\n",
       "        [1, 2],\n",
       "        [1, 1],\n",
       "        [1, 1],\n",
       "        [0, 1],\n",
       "        [1, 1],\n",
       "        [1, 1],\n",
       "        [0, 1],\n",
       "        [1, 1],\n",
       "        [1, 1],\n",
       "        [1, 1],\n",
       "        [1, 2],\n",
       "        [2, 0],\n",
       "        [1, 1],\n",
       "        [1, 1],\n",
       "        [1, 1],\n",
       "        [1, 1],\n",
       "        [1, 1],\n",
       "        [2, 0],\n",
       "        [0, 1],\n",
       "        [1, 1],\n",
       "        [1, 1],\n",
       "        [1, 1],\n",
       "        [1, 1],\n",
       "        [1, 1],\n",
       "        [1, 1],\n",
       "        [1, 1],\n",
       "        [1, 1],\n",
       "        [1, 1],\n",
       "        [1, 1],\n",
       "        [2, 0],\n",
       "        [1, 2],\n",
       "        [1, 1],\n",
       "        [1, 1],\n",
       "        [1, 1],\n",
       "        [1, 1],\n",
       "        [1, 1],\n",
       "        [1, 1],\n",
       "        [1, 1]], dtype=int32)>, observation=<tf.Tensor: shape=(64, 2, 4), dtype=float32, numpy=\n",
       " array([[[-1.41890887e-02, -1.64804712e-01,  1.46756828e-01,\n",
       "           7.80007243e-01],\n",
       "         [-1.74851827e-02, -3.61606568e-01,  1.62356973e-01,\n",
       "           1.11502850e+00]],\n",
       " \n",
       "        [[-3.54458056e-02,  1.68174163e-01,  1.15410656e-01,\n",
       "           2.58705411e-02],\n",
       "         [-3.20823193e-02,  3.61468136e-01,  1.15928061e-01,\n",
       "          -2.28286162e-01]],\n",
       " \n",
       "        [[-2.11424846e-02, -2.13604152e-01,  7.35554472e-02,\n",
       "           4.25388575e-01],\n",
       "         [-2.54145674e-02, -4.09686744e-01,  8.20632204e-02,\n",
       "           7.40322948e-01]],\n",
       " \n",
       "        [[-9.22627598e-02, -3.71868104e-01,  1.40368849e-01,\n",
       "           8.24675322e-01],\n",
       "         [-9.97001231e-02, -1.78916454e-01,  1.56862348e-01,\n",
       "           5.79227507e-01]],\n",
       " \n",
       "        [[ 1.35118701e-02,  1.82849988e-01,  1.71638932e-02,\n",
       "          -2.98053920e-01],\n",
       "         [ 1.71688702e-02, -1.25123747e-02,  1.12028150e-02,\n",
       "          -7.60177409e-06]],\n",
       " \n",
       "        [[ 1.27627589e-02, -4.03073043e-01,  1.71264391e-02,\n",
       "           5.92383683e-01],\n",
       "         [ 4.70129773e-03, -2.08194971e-01,  2.89741121e-02,\n",
       "           3.05144399e-01]],\n",
       " \n",
       "        [[-5.95995113e-02, -4.31361884e-01,  7.35347643e-02,\n",
       "           6.35127544e-01],\n",
       "         [-6.82267472e-02, -6.27428293e-01,  8.62373188e-02,\n",
       "           9.50032055e-01]],\n",
       " \n",
       "        [[-4.00874242e-02,  2.22403958e-01,  2.68590376e-02,\n",
       "          -2.57145613e-01],\n",
       "         [-3.56393456e-02,  2.69090496e-02,  2.17161253e-02,\n",
       "           4.38866131e-02]],\n",
       " \n",
       "        [[-1.11914356e-03, -3.81081142e-02, -1.78580347e-03,\n",
       "          -1.80730391e-02],\n",
       "         [-1.88130583e-03, -2.33204409e-01, -2.14726431e-03,\n",
       "           2.74045914e-01]],\n",
       " \n",
       "        [[ 1.35118701e-02,  1.82849988e-01,  1.71638932e-02,\n",
       "          -2.98053920e-01],\n",
       "         [ 1.71688702e-02, -1.25123747e-02,  1.12028150e-02,\n",
       "          -7.60177409e-06]],\n",
       " \n",
       "        [[-3.54458056e-02,  1.68174163e-01,  1.15410656e-01,\n",
       "           2.58705411e-02],\n",
       "         [-3.20823193e-02,  3.61468136e-01,  1.15928061e-01,\n",
       "          -2.28286162e-01]],\n",
       " \n",
       "        [[-4.37409282e-02, -1.71446010e-01,  4.89958413e-02,\n",
       "           4.08297390e-01],\n",
       "         [-4.71698493e-02, -3.67227197e-01,  5.71617894e-02,\n",
       "           7.16015756e-01]],\n",
       " \n",
       "        [[-9.72472876e-02, -1.01989532e+00,  1.30608290e-01,\n",
       "           1.59221530e+00],\n",
       "         [-1.17645189e-01, -1.21630323e+00,  1.62452593e-01,\n",
       "           1.92260778e+00]],\n",
       " \n",
       "        [[-8.74476228e-03, -2.12034494e-01,  5.17769456e-02,\n",
       "           3.90188724e-01],\n",
       "         [-1.29854521e-02, -4.07851607e-01,  5.95807210e-02,\n",
       "           6.98736370e-01]],\n",
       " \n",
       "        [[ 1.71688702e-02, -1.25123747e-02,  1.12028150e-02,\n",
       "          -7.60177409e-06],\n",
       "         [ 1.69186220e-02, -2.07793191e-01,  1.12026632e-02,\n",
       "           2.96188802e-01]],\n",
       " \n",
       "        [[-1.51113076e-02, -2.33220637e-01,  1.46546699e-02,\n",
       "           2.74419993e-01],\n",
       "         [-1.97757203e-02, -3.83108072e-02,  2.01430693e-02,\n",
       "          -1.36050330e-02]],\n",
       " \n",
       "        [[-8.09580088e-02, -5.65237641e-01,  1.18812129e-01,\n",
       "           1.07783616e+00],\n",
       "         [-9.22627598e-02, -3.71868104e-01,  1.40368849e-01,\n",
       "           8.24675322e-01]],\n",
       " \n",
       "        [[-6.54539419e-03, -4.28295672e-01,  3.33365402e-03,\n",
       "           5.66050828e-01],\n",
       "         [-1.51113076e-02, -2.33220637e-01,  1.46546699e-02,\n",
       "           2.74419993e-01]],\n",
       " \n",
       "        [[-1.22251384e-01, -7.69753635e-01,  2.11934656e-01,\n",
       "           1.60235083e+00],\n",
       "         [ 2.94950567e-02,  4.99304570e-02, -1.59936100e-02,\n",
       "           4.71007787e-02]],\n",
       " \n",
       "        [[-1.17190173e-02, -1.46841528e-02,  5.37212677e-02,\n",
       "           4.79629412e-02],\n",
       "         [-1.20126996e-02,  1.79627970e-01,  5.46805263e-02,\n",
       "          -2.27298290e-01]],\n",
       " \n",
       "        [[ 1.27627589e-02, -4.03073043e-01,  1.71264391e-02,\n",
       "           5.92383683e-01],\n",
       "         [ 4.70129773e-03, -2.08194971e-01,  2.89741121e-02,\n",
       "           3.05144399e-01]],\n",
       " \n",
       "        [[-5.95995113e-02, -4.31361884e-01,  7.35347643e-02,\n",
       "           6.35127544e-01],\n",
       "         [-6.82267472e-02, -6.27428293e-01,  8.62373188e-02,\n",
       "           9.50032055e-01]],\n",
       " \n",
       "        [[-2.15550233e-02, -3.16304415e-02,  1.13334306e-01,\n",
       "           4.24236000e-01],\n",
       "         [-2.21876316e-02, -2.28160113e-01,  1.21819027e-01,\n",
       "           7.50388265e-01]],\n",
       " \n",
       "        [[-2.15550233e-02, -3.16304415e-02,  1.13334306e-01,\n",
       "           4.24236000e-01],\n",
       "         [-2.21876316e-02, -2.28160113e-01,  1.21819027e-01,\n",
       "           7.50388265e-01]],\n",
       " \n",
       "        [[-3.49413082e-02, -2.52248067e-02,  1.09770350e-01,\n",
       "           2.82015264e-01],\n",
       "         [-3.54458056e-02,  1.68174163e-01,  1.15410656e-01,\n",
       "           2.58705411e-02]],\n",
       " \n",
       "        [[-2.05419362e-02, -2.33715758e-01,  1.98709685e-02,\n",
       "           2.85364598e-01],\n",
       "         [-2.52162516e-02, -4.29115385e-01,  2.55782604e-02,\n",
       "           5.84247828e-01]],\n",
       " \n",
       "        [[-4.53808196e-02, -4.39205244e-02,  2.05608815e-01,\n",
       "           7.06704855e-01],\n",
       "         [-4.62592319e-02,  1.47849694e-01,  2.19742909e-01,\n",
       "           4.85132456e-01]],\n",
       " \n",
       "        [[-2.15550233e-02, -3.16304415e-02,  1.13334306e-01,\n",
       "           4.24236000e-01],\n",
       "         [-2.21876316e-02, -2.28160113e-01,  1.21819027e-01,\n",
       "           7.50388265e-01]],\n",
       " \n",
       "        [[-2.11424846e-02, -2.13604152e-01,  7.35554472e-02,\n",
       "           4.25388575e-01],\n",
       "         [-2.54145674e-02, -4.09686744e-01,  8.20632204e-02,\n",
       "           7.40322948e-01]],\n",
       " \n",
       "        [[-3.23363915e-02,  4.17006947e-02,  4.43738289e-02,\n",
       "           2.07589641e-02],\n",
       "         [-3.15023772e-02,  2.36159116e-01,  4.47890051e-02,\n",
       "          -2.57599920e-01]],\n",
       " \n",
       "        [[-8.07753131e-02, -8.23598564e-01,  1.05237961e-01,\n",
       "           1.26851630e+00],\n",
       "         [-9.72472876e-02, -1.01989532e+00,  1.30608290e-01,\n",
       "           1.59221530e+00]],\n",
       " \n",
       "        [[-2.67508347e-02, -4.24732745e-01,  1.36826798e-01,\n",
       "           1.07878840e+00],\n",
       "         [-3.52454893e-02, -2.31656671e-01,  1.58402562e-01,\n",
       "           8.31982732e-01]],\n",
       " \n",
       "        [[ 2.94950567e-02,  4.99304570e-02, -1.59936100e-02,\n",
       "           4.71007787e-02],\n",
       "         [ 3.04936655e-02, -1.44958541e-01, -1.50515940e-02,\n",
       "           3.34694982e-01]],\n",
       " \n",
       "        [[-1.81563441e-02, -1.49254069e-01,  8.44332501e-02,\n",
       "           4.30777222e-01],\n",
       "         [-2.11414248e-02,  4.45771329e-02,  9.30487961e-02,\n",
       "           1.65860072e-01]],\n",
       " \n",
       "        [[-1.17190173e-02, -1.46841528e-02,  5.37212677e-02,\n",
       "           4.79629412e-02],\n",
       "         [-1.20126996e-02,  1.79627970e-01,  5.46805263e-02,\n",
       "          -2.27298290e-01]],\n",
       " \n",
       "        [[-8.74476228e-03, -2.12034494e-01,  5.17769456e-02,\n",
       "           3.90188724e-01],\n",
       "         [-1.29854521e-02, -4.07851607e-01,  5.95807210e-02,\n",
       "           6.98736370e-01]],\n",
       " \n",
       "        [[-1.41971260e-01, -1.41275489e+00,  2.00904742e-01,\n",
       "           2.26095676e+00],\n",
       "         [-1.70226350e-01, -1.22000372e+00,  2.46123880e-01,\n",
       "           2.03631473e+00]],\n",
       " \n",
       "        [[-2.76311543e-02,  2.15069264e-01,  2.15163663e-01,\n",
       "           4.25127387e-01],\n",
       "         [-3.23363915e-02,  4.17006947e-02,  4.43738289e-02,\n",
       "           2.07589641e-02]],\n",
       " \n",
       "        [[ 3.10301390e-02,  8.19821060e-01, -3.71371135e-02,\n",
       "          -1.09817481e+00],\n",
       "         [ 4.74265590e-02,  6.25207126e-01, -5.91006130e-02,\n",
       "          -8.17371130e-01]],\n",
       " \n",
       "        [[-5.66377956e-03,  8.19871068e-01,  1.26052676e-02,\n",
       "          -1.09920883e+00],\n",
       "         [ 1.07336426e-02,  1.01482487e+00, -9.37890820e-03,\n",
       "          -1.38791037e+00]],\n",
       " \n",
       "        [[-1.88130583e-03, -2.33204409e-01, -2.14726431e-03,\n",
       "           2.74045914e-01],\n",
       "         [-6.54539419e-03, -4.28295672e-01,  3.33365402e-03,\n",
       "           5.66050828e-01]],\n",
       " \n",
       "        [[-9.22627598e-02, -3.71868104e-01,  1.40368849e-01,\n",
       "           8.24675322e-01],\n",
       "         [-9.97001231e-02, -1.78916454e-01,  1.56862348e-01,\n",
       "           5.79227507e-01]],\n",
       " \n",
       "        [[-3.98786217e-02, -3.90128419e-02,  1.75042212e-01,\n",
       "           5.93010545e-01],\n",
       "         [-4.06588800e-02, -2.36097082e-01,  1.86902419e-01,\n",
       "           9.35319483e-01]],\n",
       " \n",
       "        [[-2.76311543e-02,  2.15069264e-01,  2.15163663e-01,\n",
       "           4.25127387e-01],\n",
       "         [-3.23363915e-02,  4.17006947e-02,  4.43738289e-02,\n",
       "           2.07589641e-02]],\n",
       " \n",
       "        [[ 1.37522388e-02, -1.20184273e-02,  1.73820034e-02,\n",
       "          -1.09055033e-02],\n",
       "         [ 1.35118701e-02,  1.82849988e-01,  1.71638932e-02,\n",
       "          -2.98053920e-01]],\n",
       " \n",
       "        [[-2.54145674e-02, -4.09686744e-01,  8.20632204e-02,\n",
       "           7.40322948e-01],\n",
       "         [-3.36083025e-02, -2.15787917e-01,  9.68696773e-02,\n",
       "           4.74553019e-01]],\n",
       " \n",
       "        [[-3.49413082e-02, -2.52248067e-02,  1.09770350e-01,\n",
       "           2.82015264e-01],\n",
       "         [-3.54458056e-02,  1.68174163e-01,  1.15410656e-01,\n",
       "           2.58705411e-02]],\n",
       " \n",
       "        [[ 1.07336426e-02,  1.01482487e+00, -9.37890820e-03,\n",
       "          -1.38791037e+00],\n",
       "         [ 3.10301390e-02,  8.19821060e-01, -3.71371135e-02,\n",
       "          -1.09817481e+00]],\n",
       " \n",
       "        [[-2.05419362e-02, -2.33715758e-01,  1.98709685e-02,\n",
       "           2.85364598e-01],\n",
       "         [-2.52162516e-02, -4.29115385e-01,  2.55782604e-02,\n",
       "           5.84247828e-01]],\n",
       " \n",
       "        [[-3.84857766e-02, -4.29993629e-01,  4.32578363e-02,\n",
       "           6.03929102e-01],\n",
       "         [-4.70856503e-02, -6.25693023e-01,  5.53364195e-02,\n",
       "           9.09917474e-01]],\n",
       " \n",
       "        [[-1.48284929e-02,  3.19701955e-02,  1.37811735e-01,\n",
       "           4.47254777e-01],\n",
       "         [-1.41890887e-02, -1.64804712e-01,  1.46756828e-01,\n",
       "           7.80007243e-01]],\n",
       " \n",
       "        [[ 1.35118701e-02,  1.82849988e-01,  1.71638932e-02,\n",
       "          -2.98053920e-01],\n",
       "         [ 1.71688702e-02, -1.25123747e-02,  1.12028150e-02,\n",
       "          -7.60177409e-06]],\n",
       " \n",
       "        [[-3.56393456e-02,  2.69090496e-02,  2.17161253e-02,\n",
       "           4.38866131e-02],\n",
       "         [-3.51011641e-02, -1.68517455e-01,  2.25938577e-02,\n",
       "           3.43341291e-01]],\n",
       " \n",
       "        [[-3.36083025e-02, -2.15787917e-01,  9.68696773e-02,\n",
       "           4.74553019e-01],\n",
       "         [-3.79240587e-02, -2.21578274e-02,  1.06360741e-01,\n",
       "           2.13904724e-01]],\n",
       " \n",
       "        [[-4.13311124e-02,  2.54178215e-02,  3.78120095e-02,\n",
       "           7.68250600e-02],\n",
       "         [-4.08227555e-02, -1.70225218e-01,  3.93485092e-02,\n",
       "           3.81193936e-01]],\n",
       " \n",
       "        [[-1.22251384e-01, -7.69753635e-01,  2.11934656e-01,\n",
       "           1.60235083e+00],\n",
       "         [ 2.94950567e-02,  4.99304570e-02, -1.59936100e-02,\n",
       "           4.71007787e-02]],\n",
       " \n",
       "        [[-4.53808196e-02, -4.39205244e-02,  2.05608815e-01,\n",
       "           7.06704855e-01],\n",
       "         [-4.62592319e-02,  1.47849694e-01,  2.19742909e-01,\n",
       "           4.85132456e-01]],\n",
       " \n",
       "        [[-4.71698493e-02, -3.67227197e-01,  5.71617894e-02,\n",
       "           7.16015756e-01],\n",
       "         [-5.45143932e-02, -5.63091755e-01,  7.14820996e-02,\n",
       "           1.02612925e+00]],\n",
       " \n",
       "        [[-1.41890887e-02, -1.64804712e-01,  1.46756828e-01,\n",
       "           7.80007243e-01],\n",
       "         [-1.74851827e-02, -3.61606568e-01,  1.62356973e-01,\n",
       "           1.11502850e+00]],\n",
       " \n",
       "        [[-2.47173142e-02, -1.68944627e-01,  1.84657544e-01,\n",
       "           8.77359688e-01],\n",
       "         [-2.80962065e-02,  2.32526436e-02,  2.02204734e-01,\n",
       "           6.47946358e-01]],\n",
       " \n",
       "        [[-4.13311124e-02,  2.54178215e-02,  3.78120095e-02,\n",
       "           7.68250600e-02],\n",
       "         [-4.08227555e-02, -1.70225218e-01,  3.93485092e-02,\n",
       "           3.81193936e-01]],\n",
       " \n",
       "        [[-1.17190173e-02, -1.46841528e-02,  5.37212677e-02,\n",
       "           4.79629412e-02],\n",
       "         [-1.20126996e-02,  1.79627970e-01,  5.46805263e-02,\n",
       "          -2.27298290e-01]],\n",
       " \n",
       "        [[-5.45143932e-02, -5.63091755e-01,  7.14820996e-02,\n",
       "           1.02612925e+00],\n",
       "         [-6.57762289e-02, -7.59088874e-01,  9.20046866e-02,\n",
       "           1.34037185e+00]],\n",
       " \n",
       "        [[-2.67791953e-02,  4.30613965e-01,  3.96370068e-02,\n",
       "          -5.35826087e-01],\n",
       "         [-1.81669146e-02,  6.25156820e-01,  2.89204866e-02,\n",
       "          -8.15760911e-01]]], dtype=float32)>, action=<tf.Tensor: shape=(64, 2), dtype=int64, numpy=\n",
       " array([[0, 1],\n",
       "        [1, 0],\n",
       "        [0, 1],\n",
       "        [1, 0],\n",
       "        [0, 0],\n",
       "        [1, 0],\n",
       "        [0, 0],\n",
       "        [0, 0],\n",
       "        [0, 0],\n",
       "        [0, 0],\n",
       "        [1, 0],\n",
       "        [0, 0],\n",
       "        [0, 0],\n",
       "        [0, 1],\n",
       "        [0, 0],\n",
       "        [1, 0],\n",
       "        [1, 1],\n",
       "        [1, 1],\n",
       "        [0, 0],\n",
       "        [1, 0],\n",
       "        [1, 0],\n",
       "        [0, 0],\n",
       "        [0, 0],\n",
       "        [0, 0],\n",
       "        [1, 1],\n",
       "        [0, 1],\n",
       "        [1, 0],\n",
       "        [0, 0],\n",
       "        [0, 1],\n",
       "        [1, 1],\n",
       "        [0, 0],\n",
       "        [1, 1],\n",
       "        [0, 0],\n",
       "        [1, 0],\n",
       "        [1, 0],\n",
       "        [0, 1],\n",
       "        [1, 0],\n",
       "        [0, 1],\n",
       "        [0, 0],\n",
       "        [1, 0],\n",
       "        [0, 1],\n",
       "        [1, 0],\n",
       "        [0, 1],\n",
       "        [0, 1],\n",
       "        [1, 0],\n",
       "        [1, 1],\n",
       "        [1, 1],\n",
       "        [0, 0],\n",
       "        [0, 1],\n",
       "        [0, 1],\n",
       "        [0, 0],\n",
       "        [0, 0],\n",
       "        [0, 1],\n",
       "        [1, 1],\n",
       "        [0, 1],\n",
       "        [0, 0],\n",
       "        [1, 0],\n",
       "        [0, 0],\n",
       "        [0, 1],\n",
       "        [1, 1],\n",
       "        [0, 1],\n",
       "        [1, 0],\n",
       "        [0, 1],\n",
       "        [1, 1]])>, policy_info=(), next_step_type=<tf.Tensor: shape=(64, 2), dtype=int32, numpy=\n",
       " array([[1, 1],\n",
       "        [1, 1],\n",
       "        [1, 1],\n",
       "        [1, 1],\n",
       "        [1, 1],\n",
       "        [1, 1],\n",
       "        [1, 1],\n",
       "        [1, 1],\n",
       "        [1, 1],\n",
       "        [1, 1],\n",
       "        [1, 1],\n",
       "        [1, 1],\n",
       "        [1, 1],\n",
       "        [1, 1],\n",
       "        [1, 1],\n",
       "        [1, 1],\n",
       "        [1, 1],\n",
       "        [1, 1],\n",
       "        [0, 1],\n",
       "        [1, 1],\n",
       "        [1, 1],\n",
       "        [1, 1],\n",
       "        [1, 1],\n",
       "        [1, 1],\n",
       "        [1, 1],\n",
       "        [1, 1],\n",
       "        [2, 0],\n",
       "        [1, 1],\n",
       "        [1, 1],\n",
       "        [1, 1],\n",
       "        [1, 1],\n",
       "        [1, 1],\n",
       "        [1, 1],\n",
       "        [1, 1],\n",
       "        [1, 1],\n",
       "        [1, 1],\n",
       "        [2, 0],\n",
       "        [0, 1],\n",
       "        [1, 1],\n",
       "        [1, 1],\n",
       "        [1, 1],\n",
       "        [1, 1],\n",
       "        [1, 1],\n",
       "        [0, 1],\n",
       "        [1, 1],\n",
       "        [1, 1],\n",
       "        [1, 1],\n",
       "        [1, 1],\n",
       "        [1, 1],\n",
       "        [1, 1],\n",
       "        [1, 1],\n",
       "        [1, 1],\n",
       "        [1, 1],\n",
       "        [1, 1],\n",
       "        [1, 1],\n",
       "        [0, 1],\n",
       "        [2, 0],\n",
       "        [1, 1],\n",
       "        [1, 1],\n",
       "        [1, 2],\n",
       "        [1, 1],\n",
       "        [1, 1],\n",
       "        [1, 1],\n",
       "        [1, 1]], dtype=int32)>, reward=<tf.Tensor: shape=(64, 2), dtype=float32, numpy=\n",
       " array([[1., 1.],\n",
       "        [1., 1.],\n",
       "        [1., 1.],\n",
       "        [1., 1.],\n",
       "        [1., 1.],\n",
       "        [1., 1.],\n",
       "        [1., 1.],\n",
       "        [1., 1.],\n",
       "        [1., 1.],\n",
       "        [1., 1.],\n",
       "        [1., 1.],\n",
       "        [1., 1.],\n",
       "        [1., 1.],\n",
       "        [1., 1.],\n",
       "        [1., 1.],\n",
       "        [1., 1.],\n",
       "        [1., 1.],\n",
       "        [1., 1.],\n",
       "        [0., 1.],\n",
       "        [1., 1.],\n",
       "        [1., 1.],\n",
       "        [1., 1.],\n",
       "        [1., 1.],\n",
       "        [1., 1.],\n",
       "        [1., 1.],\n",
       "        [1., 1.],\n",
       "        [1., 0.],\n",
       "        [1., 1.],\n",
       "        [1., 1.],\n",
       "        [1., 1.],\n",
       "        [1., 1.],\n",
       "        [1., 1.],\n",
       "        [1., 1.],\n",
       "        [1., 1.],\n",
       "        [1., 1.],\n",
       "        [1., 1.],\n",
       "        [1., 0.],\n",
       "        [0., 1.],\n",
       "        [1., 1.],\n",
       "        [1., 1.],\n",
       "        [1., 1.],\n",
       "        [1., 1.],\n",
       "        [1., 1.],\n",
       "        [0., 1.],\n",
       "        [1., 1.],\n",
       "        [1., 1.],\n",
       "        [1., 1.],\n",
       "        [1., 1.],\n",
       "        [1., 1.],\n",
       "        [1., 1.],\n",
       "        [1., 1.],\n",
       "        [1., 1.],\n",
       "        [1., 1.],\n",
       "        [1., 1.],\n",
       "        [1., 1.],\n",
       "        [0., 1.],\n",
       "        [1., 0.],\n",
       "        [1., 1.],\n",
       "        [1., 1.],\n",
       "        [1., 1.],\n",
       "        [1., 1.],\n",
       "        [1., 1.],\n",
       "        [1., 1.],\n",
       "        [1., 1.]], dtype=float32)>, discount=<tf.Tensor: shape=(64, 2), dtype=float32, numpy=\n",
       " array([[1., 1.],\n",
       "        [1., 1.],\n",
       "        [1., 1.],\n",
       "        [1., 1.],\n",
       "        [1., 1.],\n",
       "        [1., 1.],\n",
       "        [1., 1.],\n",
       "        [1., 1.],\n",
       "        [1., 1.],\n",
       "        [1., 1.],\n",
       "        [1., 1.],\n",
       "        [1., 1.],\n",
       "        [1., 1.],\n",
       "        [1., 1.],\n",
       "        [1., 1.],\n",
       "        [1., 1.],\n",
       "        [1., 1.],\n",
       "        [1., 1.],\n",
       "        [1., 1.],\n",
       "        [1., 1.],\n",
       "        [1., 1.],\n",
       "        [1., 1.],\n",
       "        [1., 1.],\n",
       "        [1., 1.],\n",
       "        [1., 1.],\n",
       "        [1., 1.],\n",
       "        [0., 1.],\n",
       "        [1., 1.],\n",
       "        [1., 1.],\n",
       "        [1., 1.],\n",
       "        [1., 1.],\n",
       "        [1., 1.],\n",
       "        [1., 1.],\n",
       "        [1., 1.],\n",
       "        [1., 1.],\n",
       "        [1., 1.],\n",
       "        [0., 1.],\n",
       "        [1., 1.],\n",
       "        [1., 1.],\n",
       "        [1., 1.],\n",
       "        [1., 1.],\n",
       "        [1., 1.],\n",
       "        [1., 1.],\n",
       "        [1., 1.],\n",
       "        [1., 1.],\n",
       "        [1., 1.],\n",
       "        [1., 1.],\n",
       "        [1., 1.],\n",
       "        [1., 1.],\n",
       "        [1., 1.],\n",
       "        [1., 1.],\n",
       "        [1., 1.],\n",
       "        [1., 1.],\n",
       "        [1., 1.],\n",
       "        [1., 1.],\n",
       "        [1., 1.],\n",
       "        [0., 1.],\n",
       "        [1., 1.],\n",
       "        [1., 1.],\n",
       "        [1., 0.],\n",
       "        [1., 1.],\n",
       "        [1., 1.],\n",
       "        [1., 1.],\n",
       "        [1., 1.]], dtype=float32)>),\n",
       " BufferInfo(ids=<tf.Tensor: shape=(64, 2), dtype=int64, numpy=\n",
       " array([[87, 88],\n",
       "        [19, 20],\n",
       "        [13, 14],\n",
       "        [61, 62],\n",
       "        [ 1,  2],\n",
       "        [ 4,  5],\n",
       "        [40, 41],\n",
       "        [48, 49],\n",
       "        [30, 31],\n",
       "        [ 1,  2],\n",
       "        [19, 20],\n",
       "        [56, 57],\n",
       "        [43, 44],\n",
       "        [11, 12],\n",
       "        [ 2,  3],\n",
       "        [33, 34],\n",
       "        [60, 61],\n",
       "        [32, 33],\n",
       "        [65, 66],\n",
       "        [ 8,  9],\n",
       "        [ 4,  5],\n",
       "        [40, 41],\n",
       "        [22, 23],\n",
       "        [22, 23],\n",
       "        [18, 19],\n",
       "        [35, 36],\n",
       "        [28, 29],\n",
       "        [22, 23],\n",
       "        [13, 14],\n",
       "        [92, 93],\n",
       "        [42, 43],\n",
       "        [24, 25],\n",
       "        [66, 67],\n",
       "        [77, 78],\n",
       "        [ 8,  9],\n",
       "        [11, 12],\n",
       "        [45, 46],\n",
       "        [91, 92],\n",
       "        [98, 99],\n",
       "        [96, 97],\n",
       "        [31, 32],\n",
       "        [61, 62],\n",
       "        [26, 27],\n",
       "        [91, 92],\n",
       "        [ 0,  1],\n",
       "        [14, 15],\n",
       "        [18, 19],\n",
       "        [97, 98],\n",
       "        [35, 36],\n",
       "        [38, 39],\n",
       "        [86, 87],\n",
       "        [ 1,  2],\n",
       "        [49, 50],\n",
       "        [15, 16],\n",
       "        [53, 54],\n",
       "        [65, 66],\n",
       "        [28, 29],\n",
       "        [57, 58],\n",
       "        [87, 88],\n",
       "        [89, 90],\n",
       "        [53, 54],\n",
       "        [ 8,  9],\n",
       "        [58, 59],\n",
       "        [94, 95]])>, probabilities=<tf.Tensor: shape=(64,), dtype=float32, numpy=\n",
       " array([0.01010101, 0.01010101, 0.01010101, 0.01010101, 0.01010101,\n",
       "        0.01010101, 0.01010101, 0.01010101, 0.01010101, 0.01010101,\n",
       "        0.01010101, 0.01010101, 0.01010101, 0.01010101, 0.01010101,\n",
       "        0.01010101, 0.01010101, 0.01010101, 0.01010101, 0.01010101,\n",
       "        0.01010101, 0.01010101, 0.01010101, 0.01010101, 0.01010101,\n",
       "        0.01010101, 0.01010101, 0.01010101, 0.01010101, 0.01010101,\n",
       "        0.01010101, 0.01010101, 0.01010101, 0.01010101, 0.01010101,\n",
       "        0.01010101, 0.01010101, 0.01010101, 0.01010101, 0.01010101,\n",
       "        0.01010101, 0.01010101, 0.01010101, 0.01010101, 0.01010101,\n",
       "        0.01010101, 0.01010101, 0.01010101, 0.01010101, 0.01010101,\n",
       "        0.01010101, 0.01010101, 0.01010101, 0.01010101, 0.01010101,\n",
       "        0.01010101, 0.01010101, 0.01010101, 0.01010101, 0.01010101,\n",
       "        0.01010101, 0.01010101, 0.01010101, 0.01010101], dtype=float32)>))"
      ]
     },
     "execution_count": 37,
     "metadata": {},
     "output_type": "execute_result"
    }
   ],
   "source": [
    "iterator = iter(dataset)\n",
    "\n",
    "iterator.next()"
   ]
  },
  {
   "cell_type": "code",
   "execution_count": 38,
   "id": "automatic-summary",
   "metadata": {
    "execution": {
     "iopub.execute_input": "2021-06-01T18:02:30.820355Z",
     "iopub.status.busy": "2021-06-01T18:02:30.819181Z",
     "iopub.status.idle": "2021-06-01T18:08:48.513329Z",
     "shell.execute_reply": "2021-06-01T18:08:48.512308Z",
     "shell.execute_reply.started": "2021-06-01T16:46:11.305826Z"
    },
    "papermill": {
     "duration": 377.757566,
     "end_time": "2021-06-01T18:08:48.513495",
     "exception": false,
     "start_time": "2021-06-01T18:02:30.755929",
     "status": "completed"
    },
    "tags": []
   },
   "outputs": [
    {
     "name": "stdout",
     "output_type": "stream",
     "text": [
      "step = 200 : loss = 8.27884578704834\n",
      "step = 400 : loss = 9.018061637878418\n",
      "step = 600 : loss = 2.518127679824829\n",
      "step = 800 : loss = 9.54608154296875\n",
      "step = 1000 : loss = 14.952600479125977\n",
      "step = 1000 : Avg Return :68.0\n",
      "step = 1200 : loss = 21.155776977539062\n",
      "step = 1400 : loss = 15.481598854064941\n",
      "step = 1600 : loss = 51.485721588134766\n",
      "step = 1800 : loss = 16.075592041015625\n",
      "step = 2000 : loss = 47.84305191040039\n",
      "step = 2000 : Avg Return :24.600000381469727\n",
      "step = 2200 : loss = 32.73166275024414\n",
      "step = 2400 : loss = 49.20347595214844\n",
      "step = 2600 : loss = 17.703319549560547\n",
      "step = 2800 : loss = 18.750560760498047\n",
      "step = 3000 : loss = 38.32825469970703\n",
      "step = 3000 : Avg Return :55.79999923706055\n",
      "step = 3200 : loss = 83.83592987060547\n",
      "step = 3400 : loss = 5.414161682128906\n",
      "step = 3600 : loss = 20.65662384033203\n",
      "step = 3800 : loss = 46.21671676635742\n",
      "step = 4000 : loss = 20.64519691467285\n",
      "step = 4000 : Avg Return :155.60000610351562\n",
      "step = 4200 : loss = 63.89645767211914\n",
      "step = 4400 : loss = 43.36172103881836\n",
      "step = 4600 : loss = 6.283352375030518\n",
      "step = 4800 : loss = 77.54324340820312\n",
      "step = 5000 : loss = 73.52400207519531\n",
      "step = 5000 : Avg Return :91.80000305175781\n",
      "step = 5200 : loss = 96.52415466308594\n",
      "step = 5400 : loss = 5.529304027557373\n",
      "step = 5600 : loss = 163.59133911132812\n",
      "step = 5800 : loss = 80.62419891357422\n",
      "step = 6000 : loss = 104.69798278808594\n",
      "step = 6000 : Avg Return :145.8000030517578\n",
      "step = 6200 : loss = 178.96136474609375\n",
      "step = 6400 : loss = 98.5901107788086\n",
      "step = 6600 : loss = 162.15524291992188\n",
      "step = 6800 : loss = 49.53645324707031\n",
      "step = 7000 : loss = 13.010461807250977\n",
      "step = 7000 : Avg Return :162.3000030517578\n",
      "step = 7200 : loss = 529.2705078125\n",
      "step = 7400 : loss = 72.3947525024414\n",
      "step = 7600 : loss = 42.574161529541016\n",
      "step = 7800 : loss = 71.95521545410156\n",
      "step = 8000 : loss = 33.56654739379883\n",
      "step = 8000 : Avg Return :188.3000030517578\n",
      "step = 8200 : loss = 124.2035140991211\n",
      "step = 8400 : loss = 110.87165832519531\n",
      "step = 8600 : loss = 17.042760848999023\n",
      "step = 8800 : loss = 136.88430786132812\n",
      "step = 9000 : loss = 16.075037002563477\n",
      "step = 9000 : Avg Return :193.0\n",
      "step = 9200 : loss = 113.79107666015625\n",
      "step = 9400 : loss = 332.8167419433594\n",
      "step = 9600 : loss = 14.75822639465332\n",
      "step = 9800 : loss = 99.8670883178711\n",
      "step = 10000 : loss = 15.791601181030273\n",
      "step = 10000 : Avg Return :199.5\n",
      "step = 10200 : loss = 237.773193359375\n",
      "step = 10400 : loss = 140.67913818359375\n",
      "step = 10600 : loss = 16.247913360595703\n",
      "step = 10800 : loss = 25.320892333984375\n",
      "step = 11000 : loss = 64.34786224365234\n",
      "step = 11000 : Avg Return :198.89999389648438\n",
      "step = 11200 : loss = 26.2800350189209\n",
      "step = 11400 : loss = 386.9720153808594\n",
      "step = 11600 : loss = 22.471786499023438\n",
      "step = 11800 : loss = 170.7967071533203\n",
      "step = 12000 : loss = 30.483041763305664\n",
      "step = 12000 : Avg Return :196.60000610351562\n",
      "step = 12200 : loss = 274.67919921875\n",
      "step = 12400 : loss = 205.5014190673828\n",
      "step = 12600 : loss = 718.876220703125\n",
      "step = 12800 : loss = 20.959444046020508\n",
      "step = 13000 : loss = 43.04286193847656\n",
      "step = 13000 : Avg Return :200.0\n",
      "step = 13200 : loss = 399.100341796875\n",
      "step = 13400 : loss = 1656.082763671875\n",
      "step = 13600 : loss = 17.142417907714844\n",
      "step = 13800 : loss = 15.291114807128906\n",
      "step = 14000 : loss = 27.68216323852539\n",
      "step = 14000 : Avg Return :200.0\n",
      "step = 14200 : loss = 23.34792709350586\n",
      "step = 14400 : loss = 102.69868469238281\n",
      "step = 14600 : loss = 464.02740478515625\n",
      "step = 14800 : loss = 27.78276252746582\n",
      "step = 15000 : loss = 21.2128963470459\n",
      "step = 15000 : Avg Return :200.0\n",
      "step = 15200 : loss = 47.68476486206055\n",
      "step = 15400 : loss = 243.2373809814453\n",
      "step = 15600 : loss = 51.669227600097656\n",
      "step = 15800 : loss = 1643.991943359375\n",
      "step = 16000 : loss = 30.874929428100586\n",
      "step = 16000 : Avg Return :200.0\n",
      "step = 16200 : loss = 650.9066772460938\n",
      "step = 16400 : loss = 388.8944091796875\n",
      "step = 16600 : loss = 22.265594482421875\n",
      "step = 16800 : loss = 141.9180908203125\n",
      "step = 17000 : loss = 32.6947021484375\n",
      "step = 17000 : Avg Return :200.0\n",
      "step = 17200 : loss = 39.926734924316406\n",
      "step = 17400 : loss = 274.61669921875\n",
      "step = 17600 : loss = 531.7630004882812\n",
      "step = 17800 : loss = 291.8799133300781\n",
      "step = 18000 : loss = 24.29964828491211\n",
      "step = 18000 : Avg Return :199.39999389648438\n",
      "step = 18200 : loss = 17.81511878967285\n",
      "step = 18400 : loss = 424.0348815917969\n",
      "step = 18600 : loss = 38.181640625\n",
      "step = 18800 : loss = 138.55262756347656\n",
      "step = 19000 : loss = 1653.6282958984375\n",
      "step = 19000 : Avg Return :200.0\n",
      "step = 19200 : loss = 40.25250244140625\n",
      "step = 19400 : loss = 160.6771240234375\n",
      "step = 19600 : loss = 297.552978515625\n",
      "step = 19800 : loss = 385.0203552246094\n",
      "step = 20000 : loss = 240.44895935058594\n",
      "step = 20000 : Avg Return :200.0\n"
     ]
    }
   ],
   "source": [
    "#training the agent\n",
    "#two steps : - 1) collect data from env and 2)  use the data to train the agent's NN\n",
    "agent.train = common.function(agent.train)\n",
    "\n",
    "#reset the train step\n",
    "agent.train_step_counter.assign(0)\n",
    "\n",
    "#evalute policy before training\n",
    "avg_return = compute_avg_return(eval_env, agent.policy, num_eval_episodes)\n",
    "returns = [avg_return]\n",
    "\n",
    "\n",
    "for _ in range(num_iterations):\n",
    "    \n",
    "    # collect a few step to save in replay buffer\n",
    "    for _ in range (collect_steps_per_iteration):\n",
    "        collect_step(train_env, agent.collect_policy, replay_buffer)\n",
    "        \n",
    "    #get next data from dataset and updtae agent's network\n",
    "    experience, unused_info =  next(iterator)\n",
    "    \n",
    "    train_loss = agent.train(experience).loss\n",
    "    \n",
    "    step = agent.train_step_counter.numpy()\n",
    "    \n",
    "    \n",
    "    if step % log_interval == 0:\n",
    "        print('step = {0} : loss = {1}'.format(step, train_loss))\n",
    "        \n",
    "    if step % eval_interval == 0:\n",
    "        avg_return = compute_avg_return(eval_env, agent.policy, num_eval_episodes)\n",
    "        \n",
    "        print('step = {0} : Avg Return :{1}'.format(step, avg_return))\n",
    "        \n",
    "        returns.append(avg_return)\n",
    "\n"
   ]
  },
  {
   "cell_type": "code",
   "execution_count": 39,
   "id": "corresponding-racing",
   "metadata": {
    "execution": {
     "iopub.execute_input": "2021-06-01T18:08:48.702477Z",
     "iopub.status.busy": "2021-06-01T18:08:48.701956Z",
     "iopub.status.idle": "2021-06-01T18:08:48.835551Z",
     "shell.execute_reply": "2021-06-01T18:08:48.834808Z",
     "shell.execute_reply.started": "2021-06-01T17:08:58.240201Z"
    },
    "papermill": {
     "duration": 0.236646,
     "end_time": "2021-06-01T18:08:48.835670",
     "exception": false,
     "start_time": "2021-06-01T18:08:48.599024",
     "status": "completed"
    },
    "tags": []
   },
   "outputs": [
    {
     "data": {
      "text/plain": [
       "[<matplotlib.lines.Line2D at 0x7f1605cd8910>]"
      ]
     },
     "execution_count": 39,
     "metadata": {},
     "output_type": "execute_result"
    },
    {
     "data": {
      "image/png": "[encoded data removed]",
      "text/plain": [
       "<Figure size 432x288 with 1 Axes>"
      ]
     },
     "metadata": {
      "needs_background": "light"
     },
     "output_type": "display_data"
    }
   ],
   "source": [
    "iterations =  range(0, num_iterations + 1, eval_interval)\n",
    "\n",
    "import matplotlib.pyplot as plt\n",
    "\n",
    "plt.plot(iterations, returns)\n",
    "\n"
   ]
  },
  {
   "cell_type": "code",
   "execution_count": 40,
   "id": "vital-container",
   "metadata": {
    "execution": {
     "iopub.execute_input": "2021-06-01T18:08:49.014307Z",
     "iopub.status.busy": "2021-06-01T18:08:49.012986Z",
     "iopub.status.idle": "2021-06-01T18:08:49.015367Z",
     "shell.execute_reply": "2021-06-01T18:08:49.015761Z",
     "shell.execute_reply.started": "2021-06-01T17:16:02.122017Z"
    },
    "papermill": {
     "duration": 0.09285,
     "end_time": "2021-06-01T18:08:49.015896",
     "exception": false,
     "start_time": "2021-06-01T18:08:48.923046",
     "status": "completed"
    },
    "tags": []
   },
   "outputs": [],
   "source": [
    "import base64"
   ]
  },
  {
   "cell_type": "code",
   "execution_count": 41,
   "id": "constant-tournament",
   "metadata": {
    "execution": {
     "iopub.execute_input": "2021-06-01T18:08:49.193721Z",
     "iopub.status.busy": "2021-06-01T18:08:49.193002Z",
     "iopub.status.idle": "2021-06-01T18:08:49.196688Z",
     "shell.execute_reply": "2021-06-01T18:08:49.196262Z",
     "shell.execute_reply.started": "2021-06-01T17:31:45.565762Z"
    },
    "papermill": {
     "duration": 0.094975,
     "end_time": "2021-06-01T18:08:49.196793",
     "exception": false,
     "start_time": "2021-06-01T18:08:49.101818",
     "status": "completed"
    },
    "tags": []
   },
   "outputs": [],
   "source": [
    "#let's create video\n",
    "\n",
    "def embed_mp4(filename):\n",
    "    \n",
    "    video = open(filename, 'rb').read()\n",
    "    \n",
    "    b64 = base64.b64encode(video)\n",
    "    tag = '''\n",
    "    <video width=\"640\" height=\"480\" controls>\n",
    "    <source src =\"data:video/mp4;base64,{0}\" type=\"video/mp\">\n",
    "    your browswr does nt support the video tag.\n",
    "    </video>'''.format(b64.decode())\n",
    "    \n",
    "    return IPython.display.HTML(tag)\n",
    "    \n",
    "    "
   ]
  },
  {
   "cell_type": "code",
   "execution_count": 42,
   "id": "satisfactory-london",
   "metadata": {
    "execution": {
     "iopub.execute_input": "2021-06-01T18:08:49.374689Z",
     "iopub.status.busy": "2021-06-01T18:08:49.374098Z",
     "iopub.status.idle": "2021-06-01T18:08:49.378033Z",
     "shell.execute_reply": "2021-06-01T18:08:49.377634Z",
     "shell.execute_reply.started": "2021-06-01T17:42:43.205669Z"
    },
    "papermill": {
     "duration": 0.094955,
     "end_time": "2021-06-01T18:08:49.378141",
     "exception": false,
     "start_time": "2021-06-01T18:08:49.283186",
     "status": "completed"
    },
    "tags": []
   },
   "outputs": [],
   "source": [
    "from IPython.display import HTML\n",
    "from base64 import b64encode\n",
    "\n",
    "def play(filename):\n",
    "    html = ''\n",
    "    video = open(filename,'rb').read()\n",
    "    src = 'data:video/mp4;base64,' + b64encode(video).decode()\n",
    "    html += '<video width=1000 controls autoplay loop><source src=\"%s\" type=\"video/mp4\"></video>' % src \n",
    "    return HTML(html)"
   ]
  },
  {
   "cell_type": "code",
   "execution_count": 43,
   "id": "conservative-token",
   "metadata": {
    "execution": {
     "iopub.execute_input": "2021-06-01T18:08:49.556583Z",
     "iopub.status.busy": "2021-06-01T18:08:49.555915Z",
     "iopub.status.idle": "2021-06-01T18:08:49.559106Z",
     "shell.execute_reply": "2021-06-01T18:08:49.559482Z",
     "shell.execute_reply.started": "2021-06-01T18:00:46.136672Z"
    },
    "papermill": {
     "duration": 0.095375,
     "end_time": "2021-06-01T18:08:49.559613",
     "exception": false,
     "start_time": "2021-06-01T18:08:49.464238",
     "status": "completed"
    },
    "tags": []
   },
   "outputs": [],
   "source": [
    "def create_policy_eval_video(policy, filename, num_episodes=5, fps=30):\n",
    "    filename = filename + \".mp4\"\n",
    "    with imageio.get_writer(filename, fps=fps) as video:\n",
    "        for _ in range(num_episodes):\n",
    "            time_step = eval_env.reset()\n",
    "            video.append_data(eval_py_env.render())\n",
    "            while not time_step.is_last():\n",
    "                action_step = policy.action(time_step)\n",
    "                time_step = eval_env.step(action_step.action)\n",
    "                video.append_data(eval_py_env.render())\n",
    "    return    embed_mp4(filename)   #YouTubeVideo(filename, width=1000, height=450)# play(filename)\n",
    "\n"
   ]
  },
  {
   "cell_type": "code",
   "execution_count": 44,
   "id": "improving-retail",
   "metadata": {
    "execution": {
     "iopub.execute_input": "2021-06-01T18:08:49.756084Z",
     "iopub.status.busy": "2021-06-01T18:08:49.740233Z",
     "iopub.status.idle": "2021-06-01T18:09:03.392127Z",
     "shell.execute_reply": "2021-06-01T18:09:03.393111Z",
     "shell.execute_reply.started": "2021-06-01T17:26:49.122499Z"
    },
    "papermill": {
     "duration": 13.743905,
     "end_time": "2021-06-01T18:09:03.393334",
     "exception": false,
     "start_time": "2021-06-01T18:08:49.649429",
     "status": "completed"
    },
    "tags": []
   },
   "outputs": [
    {
     "name": "stdout",
     "output_type": "stream",
     "text": [
      "Collecting imageio-ffmpeg\r\n",
      "  Downloading imageio_ffmpeg-0.4.4-py3-none-manylinux2010_x86_64.whl (26.9 MB)\r\n",
      "\u001b[K     |████████████████████████████████| 26.9 MB 8.8 MB/s \r\n",
      "\u001b[?25hInstalling collected packages: imageio-ffmpeg\r\n",
      "Successfully installed imageio-ffmpeg-0.4.4\r\n"
     ]
    }
   ],
   "source": [
    "!pip install imageio-ffmpeg"
   ]
  },
  {
   "cell_type": "code",
   "execution_count": 45,
   "id": "african-ethics",
   "metadata": {
    "execution": {
     "iopub.execute_input": "2021-06-01T18:09:03.663699Z",
     "iopub.status.busy": "2021-06-01T18:09:03.662879Z",
     "iopub.status.idle": "2021-06-01T18:09:03.665415Z",
     "shell.execute_reply": "2021-06-01T18:09:03.665003Z",
     "shell.execute_reply.started": "2021-06-01T17:29:18.917172Z"
    },
    "papermill": {
     "duration": 0.125581,
     "end_time": "2021-06-01T18:09:03.665524",
     "exception": false,
     "start_time": "2021-06-01T18:09:03.539943",
     "status": "completed"
    },
    "tags": []
   },
   "outputs": [],
   "source": [
    "import IPython"
   ]
  },
  {
   "cell_type": "code",
   "execution_count": 46,
   "id": "official-seventh",
   "metadata": {
    "execution": {
     "iopub.execute_input": "2021-06-01T18:09:03.907662Z",
     "iopub.status.busy": "2021-06-01T18:09:03.906821Z",
     "iopub.status.idle": "2021-06-01T18:09:03.909393Z",
     "shell.execute_reply": "2021-06-01T18:09:03.908952Z",
     "shell.execute_reply.started": "2021-06-01T17:25:21.683443Z"
    },
    "papermill": {
     "duration": 0.125786,
     "end_time": "2021-06-01T18:09:03.909500",
     "exception": false,
     "start_time": "2021-06-01T18:09:03.783714",
     "status": "completed"
    },
    "tags": []
   },
   "outputs": [],
   "source": [
    "import imageio"
   ]
  },
  {
   "cell_type": "code",
   "execution_count": 47,
   "id": "musical-observation",
   "metadata": {
    "execution": {
     "iopub.execute_input": "2021-06-01T18:09:04.152545Z",
     "iopub.status.busy": "2021-06-01T18:09:04.151756Z",
     "iopub.status.idle": "2021-06-01T18:09:13.718664Z",
     "shell.execute_reply": "2021-06-01T18:09:13.718171Z",
     "shell.execute_reply.started": "2021-06-01T18:00:50.691949Z"
    },
    "papermill": {
     "duration": 9.689446,
     "end_time": "2021-06-01T18:09:13.718782",
     "exception": false,
     "start_time": "2021-06-01T18:09:04.029336",
     "status": "completed"
    },
    "tags": []
   },
   "outputs": [
    {
     "data": {
      "text/html": [
       "\n",
       "    <video width=\"640\" height=\"480\" controls>\n",
       "    <source src =\"data:video/mp4;base64,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\" type=\"video/mp\">\n",
       "    your browswr does nt support the video tag.\n",
       "    </video>"
      ],
      "text/plain": [
       "<IPython.core.display.HTML object>"
      ]
     },
     "execution_count": 47,
     "metadata": {},
     "output_type": "execute_result"
    }
   ],
   "source": [
    "create_policy_eval_video(agent.policy, \"cartpole_dqn_trained-agent\")\n",
    "\n",
    "#embed_mp4(cartpole_dqn_trained-agent.mp4 )\n"
   ]
  },
  {
   "cell_type": "code",
   "execution_count": 48,
   "id": "loose-flavor",
   "metadata": {
    "execution": {
     "iopub.execute_input": "2021-06-01T18:09:13.965307Z",
     "iopub.status.busy": "2021-06-01T18:09:13.964758Z",
     "iopub.status.idle": "2021-06-01T18:09:13.968852Z",
     "shell.execute_reply": "2021-06-01T18:09:13.968409Z",
     "shell.execute_reply.started": "2021-06-01T17:45:22.653915Z"
    },
    "papermill": {
     "duration": 0.128686,
     "end_time": "2021-06-01T18:09:13.968974",
     "exception": false,
     "start_time": "2021-06-01T18:09:13.840288",
     "status": "completed"
    },
    "tags": []
   },
   "outputs": [],
   "source": [
    "from IPython.display import YouTubeVideo"
   ]
  },
  {
   "cell_type": "code",
   "execution_count": 49,
   "id": "combined-dutch",
   "metadata": {
    "execution": {
     "iopub.execute_input": "2021-06-01T18:09:14.214708Z",
     "iopub.status.busy": "2021-06-01T18:09:14.213250Z",
     "iopub.status.idle": "2021-06-01T18:09:14.215532Z",
     "shell.execute_reply": "2021-06-01T18:09:14.215951Z",
     "shell.execute_reply.started": "2021-06-01T17:55:09.809401Z"
    },
    "papermill": {
     "duration": 0.126747,
     "end_time": "2021-06-01T18:09:14.216089",
     "exception": false,
     "start_time": "2021-06-01T18:09:14.089342",
     "status": "completed"
    },
    "tags": []
   },
   "outputs": [],
   "source": [
    "from IPython import display\n"
   ]
  },
  {
   "cell_type": "code",
   "execution_count": 50,
   "id": "removable-bedroom",
   "metadata": {
    "execution": {
     "iopub.execute_input": "2021-06-01T18:09:14.461079Z",
     "iopub.status.busy": "2021-06-01T18:09:14.460547Z",
     "iopub.status.idle": "2021-06-01T18:09:14.667835Z",
     "shell.execute_reply": "2021-06-01T18:09:14.667091Z",
     "shell.execute_reply.started": "2021-06-01T17:57:14.186892Z"
    },
    "papermill": {
     "duration": 0.33219,
     "end_time": "2021-06-01T18:09:14.667956",
     "exception": false,
     "start_time": "2021-06-01T18:09:14.335766",
     "status": "completed"
    },
    "tags": []
   },
   "outputs": [
    {
     "data": {
      "text/html": [
       "\n",
       "        <iframe\n",
       "            width=\"1000\"\n",
       "            height=\"450\"\n",
       "            src=\"https://www.youtube.com/embed/1U3Aqx-ta8AcmzAU\"\n",
       "            frameborder=\"0\"\n",
       "            allowfullscreen\n",
       "        ></iframe>\n",
       "        "
      ],
      "text/plain": [
       "<IPython.lib.display.YouTubeVideo at 0x7f1605a74690>"
      ]
     },
     "execution_count": 50,
     "metadata": {},
     "output_type": "execute_result"
    }
   ],
   "source": [
    "display.YouTubeVideo(id='1U3Aqx-ta8AcmzAU' , height=450, width=1000)"
   ]
  },
  {
   "cell_type": "code",
   "execution_count": null,
   "id": "decent-seeking",
   "metadata": {
    "papermill": {
     "duration": 0.122172,
     "end_time": "2021-06-01T18:09:14.910928",
     "exception": false,
     "start_time": "2021-06-01T18:09:14.788756",
     "status": "completed"
    },
    "tags": []
   },
   "outputs": [],
   "source": []
  }
 ],
 "metadata": {
  "kernelspec": {
   "display_name": "Python 3",
   "language": "python",
   "name": "python3"
  },
  "language_info": {
   "codemirror_mode": {
    "name": "ipython",
    "version": 3
   },
   "file_extension": ".py",
   "mimetype": "text/x-python",
   "name": "python",
   "nbconvert_exporter": "python",
   "pygments_lexer": "ipython3",
   "version": "3.7.10"
  },
  "papermill": {
   "default_parameters": {},
   "duration": 455.879685,
   "end_time": "2021-06-01T18:09:17.801300",
   "environment_variables": {},
   "exception": null,
   "input_path": "__notebook__.ipynb",
   "output_path": "__notebook__.ipynb",
   "parameters": {},
   "start_time": "2021-06-01T18:01:41.921615",
   "version": "2.3.3"
  }
 },
 "nbformat": 4,
 "nbformat_minor": 5
}
